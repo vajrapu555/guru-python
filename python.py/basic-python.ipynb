{
 "cells": [
  {
   "cell_type": "code",
   "execution_count": 1,
   "metadata": {},
   "outputs": [
    {
     "name": "stdout",
     "output_type": "stream",
     "text": [
      "hello world\n"
     ]
    }
   ],
   "source": [
    "#1)wap to print \"hello world\" in shell\n",
    "print(\"hello world\")"
   ]
  },
  {
   "cell_type": "code",
   "execution_count": 2,
   "metadata": {},
   "outputs": [
    {
     "name": "stdout",
     "output_type": "stream",
     "text": [
      "hello\n"
     ]
    }
   ],
   "source": [
    "#2)wap to print \"hello world\".\n",
    "print(\"hello\")"
   ]
  },
  {
   "cell_type": "code",
   "execution_count": 4,
   "metadata": {},
   "outputs": [
    {
     "name": "stdout",
     "output_type": "stream",
     "text": [
      "these value are a= 10 b= 20 c= 30\n"
     ]
    }
   ],
   "source": [
    "#3)wap to initialize multivariables and assigning multivalues corresponding to 150,120,250.\n",
    "a,b,c=10,20,30\n",
    "print(\"these value are a=\" ,a, \"b=\", b, \"c=\" ,c)"
   ]
  },
  {
   "cell_type": "code",
   "execution_count": 9,
   "metadata": {},
   "outputs": [
    {
     "name": "stdout",
     "output_type": "stream",
     "text": [
      "10\n",
      "10.6\n",
      "(10+3j)\n",
      "True\n",
      "b'1010'\n",
      "None\n",
      "(10, 20, 30, 40)\n",
      "(10, 20, 30, 40)\n",
      "[10, 20, 30, 40]\n",
      "{40, 10, 20, 30}\n",
      "{10: 20, 30: 40}\n"
     ]
    }
   ],
   "source": [
    "# 4)wap to to initialize  a var and different DT values\n",
    "\n",
    "a=10\n",
    "print(a)\n",
    "a=10.6\n",
    "print(a)\n",
    "a=10+3j\n",
    "print(a)\n",
    "a=True\n",
    "print(a)\n",
    "a=b'1010'\n",
    "print(a)\n",
    "a=None\n",
    "print(a)\n",
    "a=10,20,30,40\n",
    "print(a)\n",
    "a=(10,20,30,40)\n",
    "print(a)\n",
    "a=[10,20,30,40]\n",
    "print(a)\n",
    "a={10,20,30,40}\n",
    "print(a)\n",
    "a={10:20,30:40}\n",
    "print(a)"
   ]
  },
  {
   "cell_type": "code",
   "execution_count": 11,
   "metadata": {},
   "outputs": [
    {
     "name": "stdout",
     "output_type": "stream",
     "text": [
      "<class 'set'>\n"
     ]
    }
   ],
   "source": [
    "#5)wap to print type of the data of the given value\n",
    "a={1,2,3,4,7,8,9,10}\n",
    "print(type(a))"
   ]
  },
  {
   "cell_type": "code",
   "execution_count": 12,
   "metadata": {},
   "outputs": [
    {
     "name": "stdout",
     "output_type": "stream",
     "text": [
      "140721069286472\n"
     ]
    }
   ],
   "source": [
    "#6)wap to print address of the memory block\n",
    "a=10\n",
    "print(id(a))"
   ]
  },
  {
   "cell_type": "code",
   "execution_count": 6,
   "metadata": {},
   "outputs": [
    {
     "name": "stdout",
     "output_type": "stream",
     "text": [
      "the age of guru is 22\n"
     ]
    }
   ],
   "source": [
    "#7)wap to print your details first store you details then extract them\n",
    "#3 concepts to fetch\n",
    "#variable concep\n",
    "name=\"guru\"\n",
    "age=22\n",
    "phone=9376543216                              # need to use variable for every detail to fetch\n",
    "email=\"guru@gmail.com\"\n",
    "\n",
    "#list concep\n",
    "guru=['guru',22,9376543216,\"guru@gmail.com\"]          # can befetch using indexing but need to remember each indexposition of details\n",
    "\n",
    "#dict concep\n",
    "guru={\"Name\": \"guru\", \"age\": 22,\"Phone Number\":9376543216}\n",
    "print(\"the age of guru is\",guru[\"age\"])"
   ]
  },
  {
   "cell_type": "code",
   "execution_count": 1,
   "metadata": {},
   "outputs": [
    {
     "name": "stdout",
     "output_type": "stream",
     "text": [
      "haii 20\n"
     ]
    }
   ],
   "source": [
    "#8)wap to swap the variablesn with using temp var\n",
    "a=20\n",
    "b=\"haii\"\n",
    "temp=a\n",
    "a=b\n",
    "b=temp\n",
    "print(a,b)\n",
    "\n"
   ]
  },
  {
   "cell_type": "code",
   "execution_count": 2,
   "metadata": {},
   "outputs": [
    {
     "name": "stdout",
     "output_type": "stream",
     "text": [
      "[10, 20, 30, 40] (10, 20, 30)\n",
      "(10, 20, 30) [10, 20, 30, 40]\n"
     ]
    }
   ],
   "source": [
    "#9)wap to swap the variablesn without using temp var\n",
    "m=[10,20,30,40]\n",
    "n=(10,20,30,)\n",
    "print(m,n)\n",
    "m,n=n,m\n",
    "print(m,n)"
   ]
  },
  {
   "cell_type": "code",
   "execution_count": 3,
   "metadata": {},
   "outputs": [
    {
     "name": "stdout",
     "output_type": "stream",
     "text": [
      "547\n",
      "{1: 200}\n",
      "(1, 2, 3, 4)\n",
      "(1, 2, 3, 4, 20, 30, 40)\n"
     ]
    }
   ],
   "source": [
    "#10)wap to initialize a value and point it, then reinitialize the new value in to the existing  variable\n",
    "a={1:547}  #initialize\n",
    "print(a[1]) #fetch\n",
    "a[1]=200 #modify\n",
    "print(a)\n",
    "a=1,2,3,4   #reinitialize\n",
    "print(a)\n",
    "a+=20,30,40  #concat\n",
    "print(a)\n"
   ]
  },
  {
   "cell_type": "code",
   "execution_count": 4,
   "metadata": {},
   "outputs": [
    {
     "data": {
      "text/plain": [
       "'10'"
      ]
     },
     "execution_count": 4,
     "metadata": {},
     "output_type": "execute_result"
    }
   ],
   "source": [
    "#11)Was to convert single to multi value data\n",
    "a=10\n",
    "a=str(a)\n",
    "a\n"
   ]
  },
  {
   "cell_type": "code",
   "execution_count": 10,
   "metadata": {},
   "outputs": [
    {
     "name": "stdout",
     "output_type": "stream",
     "text": [
      "helloworld\n",
      "[10, 20, 30, 40, 50, 30]\n"
     ]
    }
   ],
   "source": [
    "#12)Wap to concat the two multivalue data types (str,list,tuple)\n",
    "x=\"hello\"\n",
    "x+=\"world\"\n",
    "print(x)\n",
    "y=[10,20,30]\n",
    "y+={30,40,50}\n",
    "print(y)\n"
   ]
  },
  {
   "cell_type": "code",
   "execution_count": 11,
   "metadata": {},
   "outputs": [
    {
     "data": {
      "text/plain": [
       "5"
      ]
     },
     "execution_count": 11,
     "metadata": {},
     "output_type": "execute_result"
    }
   ],
   "source": [
    "#13)Was to check the length of collection\n",
    "t=(10,20,30,40,50)\n",
    "len(t)"
   ]
  },
  {
   "cell_type": "code",
   "execution_count": 12,
   "metadata": {},
   "outputs": [
    {
     "data": {
      "text/plain": [
       "30"
      ]
     },
     "execution_count": 12,
     "metadata": {},
     "output_type": "execute_result"
    }
   ],
   "source": [
    "#14)Wap to check find out the middle value of the given collection\n",
    "s=[10,20,30,40,50]\n",
    "s[len(s)//2]\n"
   ]
  },
  {
   "cell_type": "code",
   "execution_count": 15,
   "metadata": {},
   "outputs": [
    {
     "data": {
      "text/plain": [
       "'dear how r u'"
      ]
     },
     "execution_count": 15,
     "metadata": {},
     "output_type": "execute_result"
    }
   ],
   "source": [
    "#15)Was to concat the new string into starting of given string\n",
    "a=\"how r u\"\n",
    "b=\"dear \"\n",
    "a=b+a\n",
    "a"
   ]
  },
  {
   "cell_type": "code",
   "execution_count": 18,
   "metadata": {},
   "outputs": [
    {
     "name": "stdout",
     "output_type": "stream",
     "text": [
      "hii darling\n"
     ]
    }
   ],
   "source": [
    "#16)Was to concat the new string into ending of given string\n",
    "a=\"hii \"\n",
    "b=\"darling\"\n",
    "a=a+b\n",
    "print(a)\n"
   ]
  },
  {
   "cell_type": "code",
   "execution_count": 22,
   "metadata": {},
   "outputs": [
    {
     "data": {
      "text/plain": [
       "'hi darling alavunav'"
      ]
     },
     "execution_count": 22,
     "metadata": {},
     "output_type": "execute_result"
    }
   ],
   "source": [
    "#17)Was to concat the new string into middle of given string\n",
    "h=\"hi \"\n",
    "g=\"alavunav\"\n",
    "h=h[0:]+\"darling \"+g[0:]\n",
    "h\n"
   ]
  },
  {
   "cell_type": "code",
   "execution_count": 25,
   "metadata": {},
   "outputs": [
    {
     "name": "stdout",
     "output_type": "stream",
     "text": [
      "i\n"
     ]
    },
    {
     "data": {
      "text/plain": [
       "'hi hello '"
      ]
     },
     "execution_count": 25,
     "metadata": {},
     "output_type": "execute_result"
    }
   ],
   "source": [
    "#18)wap to modify the new char in to the middle of given string\n",
    "s=\"hi hillo \"\n",
    "t=s[len(s)//2]\n",
    "print(t)\n",
    "s=s[0:len(s)//2]+\"e\"+s[len(s)//2+1:]\n",
    "s"
   ]
  },
  {
   "cell_type": "code",
   "execution_count": 28,
   "metadata": {},
   "outputs": [
    {
     "name": "stdout",
     "output_type": "stream",
     "text": [
      "hello Bangaram\n"
     ]
    }
   ],
   "source": [
    "#19)Was to modify the sequence of character in given string\n",
    "s=\"hello bangaram\"\n",
    "print(s[0:6]+\"B\"+s[7:])"
   ]
  },
  {
   "cell_type": "code",
   "execution_count": 29,
   "metadata": {},
   "outputs": [
    {
     "name": "stdout",
     "output_type": "stream",
     "text": [
      "pyspiders\n",
      "pyspiDers\n"
     ]
    }
   ],
   "source": [
    "#20)Was to replace the old character into new character in given string\n",
    "s=\"pyspiders\"\n",
    "print(s)\n",
    "print(s[:-4]+'D'+s[-3:])"
   ]
  },
  {
   "cell_type": "code",
   "execution_count": 30,
   "metadata": {},
   "outputs": [
    {
     "name": "stdout",
     "output_type": "stream",
     "text": [
      "pypiders\n"
     ]
    }
   ],
   "source": [
    "#21)was to delete a specific character in a given string\n",
    "s=\"pyspiders\"\n",
    "print(s[:2]+s[3:])"
   ]
  },
  {
   "cell_type": "code",
   "execution_count": 31,
   "metadata": {},
   "outputs": [
    {
     "name": "stdout",
     "output_type": "stream",
     "text": [
      "pysers\n"
     ]
    }
   ],
   "source": [
    "#22)was to delete sequence of characters in a given string\n",
    "s='pyspiders'\n",
    "print(s[:3]+s[-3:])"
   ]
  },
  {
   "cell_type": "code",
   "execution_count": 32,
   "metadata": {},
   "outputs": [
    {
     "name": "stdout",
     "output_type": "stream",
     "text": [
      "hai hai are you\n"
     ]
    }
   ],
   "source": [
    "#23)was to concat new string into a specific potion of given string\n",
    "s=\"hai are you\"\n",
    "print(s[:4]+'hai'+s[3:])"
   ]
  },
  {
   "cell_type": "code",
   "execution_count": 33,
   "metadata": {},
   "outputs": [
    {
     "name": "stdout",
     "output_type": "stream",
     "text": [
      "[4, 5, 7, 1, 2, 3]\n"
     ]
    }
   ],
   "source": [
    "#24)was to concat new value into starting of given list\n",
    "s=[1,2,3]\n",
    "print([4,5,7]+s)"
   ]
  },
  {
   "cell_type": "code",
   "execution_count": 34,
   "metadata": {},
   "outputs": [
    {
     "name": "stdout",
     "output_type": "stream",
     "text": [
      "[1, 2, 3, 4, 5, 7]\n"
     ]
    }
   ],
   "source": [
    "#25)was to concat new value into ending  of given list\n",
    "s=[1,2,3]\n",
    "print(s+[4,5,7])"
   ]
  },
  {
   "cell_type": "code",
   "execution_count": 36,
   "metadata": {},
   "outputs": [
    {
     "name": "stdout",
     "output_type": "stream",
     "text": [
      "[10, 10.12, 'a', 'b', 'c', True, 'hai']\n"
     ]
    }
   ],
   "source": [
    "#26)was to concat new value into middle of given list\n",
    "s=[10,10.12,True ,'hai']\n",
    "s[len(s)//2:len(s)//2]=['a','b','c']\n",
    "print(s)"
   ]
  },
  {
   "cell_type": "code",
   "execution_count": 44,
   "metadata": {},
   "outputs": [
    {
     "name": "stdout",
     "output_type": "stream",
     "text": [
      "[10, 10.12, 'hai', 'hello', True, 'hai', 'raja']\n"
     ]
    }
   ],
   "source": [
    "#27)was to concat new value into specific postion of given list\n",
    "s=[10,10.12,True ,'hai','raja']\n",
    "s[2:2]=['hai','hello']\n",
    "print(s)"
   ]
  },
  {
   "cell_type": "code",
   "execution_count": 45,
   "metadata": {},
   "outputs": [
    {
     "name": "stdout",
     "output_type": "stream",
     "text": [
      "[10, True, True, 'hai']\n"
     ]
    }
   ],
   "source": [
    "#28)was to modify new value into specific postion of given list\n",
    "s=[10,10.12,True ,'hai']\n",
    "s[1]=True\n",
    "print(s)"
   ]
  },
  {
   "cell_type": "code",
   "execution_count": 46,
   "metadata": {},
   "outputs": [
    {
     "name": "stdout",
     "output_type": "stream",
     "text": [
      "[{'a': 20}, 10.12, True, 'hai']\n"
     ]
    }
   ],
   "source": [
    "#29)was to modify new value into starting postion of given list\n",
    "s=[10,10.12,True ,'hai']\n",
    "s[0]={'a':20}\n",
    "print(s)"
   ]
  },
  {
   "cell_type": "code",
   "execution_count": 47,
   "metadata": {},
   "outputs": [
    {
     "name": "stdout",
     "output_type": "stream",
     "text": [
      "[10, 10.12, True, 'qspiders']\n"
     ]
    }
   ],
   "source": [
    "#30)was to modify new value into ending value of given list\n",
    "s=[10,10.12,True ,'hai']\n",
    "s[-1]='qspiders'\n",
    "print(s)"
   ]
  },
  {
   "cell_type": "code",
   "execution_count": 48,
   "metadata": {},
   "outputs": [
    {
     "name": "stdout",
     "output_type": "stream",
     "text": [
      "[10, [10, 20, 30], True]\n"
     ]
    }
   ],
   "source": [
    "#31)was to modify new value middle value  of given list\n",
    "s=[10,10.12,True]\n",
    "s[len(s)//2]=[10,20,30]\n",
    "print(s)"
   ]
  },
  {
   "cell_type": "code",
   "execution_count": 49,
   "metadata": {},
   "outputs": [
    {
     "data": {
      "text/plain": [
       "['a', 'b', 'c', 60]"
      ]
     },
     "execution_count": 49,
     "metadata": {},
     "output_type": "execute_result"
    }
   ],
   "source": [
    "#32)wap to modify the first 4 positions of given list\n",
    "l=[10,20,30,50,60]\n",
    "l[0:4]=['a','b','c']\n",
    "l"
   ]
  },
  {
   "cell_type": "code",
   "execution_count": 65,
   "metadata": {},
   "outputs": [
    {
     "name": "stdout",
     "output_type": "stream",
     "text": [
      "[1, 2, 3, 4, 5, 6, 7, 8, 9]\n",
      "[2, 4, 6, 8]\n",
      "[1, 20, 3, 40, 5, 60, 7, 80, 9]\n",
      "[1, 2, 4, 8, 9]\n",
      "[1, 3, 4, 5, 16, 7, 64, 6, 81, 15]\n"
     ]
    }
   ],
   "source": [
    "#33)wap to modify the sequence of values in the given list\n",
    "d=[1,2,3,4,5,6,7,8,9]\n",
    "print(d)\n",
    "print(d[1: :2])\n",
    "d[1: :2]=[20,40,60,80]\n",
    "print(d)\n",
    "\n",
    "d=[1,3,2,5,4,7,8,6,9,15]\n",
    "print(d[ : :2])\n",
    "d[ : :2]=[d[0]**2,d[2]**2,d[4]**2,d[6]**2,d[8]**2,]\n",
    "print(d)"
   ]
  },
  {
   "cell_type": "code",
   "execution_count": 66,
   "metadata": {},
   "outputs": [
    {
     "name": "stdout",
     "output_type": "stream",
     "text": [
      "[1, 2, 3, 4, 5]\n",
      "[1, 2, 3, 5]\n"
     ]
    }
   ],
   "source": [
    "#34)wap to delete the values in specific position in the given list\n",
    "s=[1,2,3,4,5]\n",
    "print(s)\n",
    "del s[3]\n",
    "print(s)"
   ]
  },
  {
   "cell_type": "code",
   "execution_count": 67,
   "metadata": {},
   "outputs": [
    {
     "name": "stdout",
     "output_type": "stream",
     "text": [
      "[1, 2, 3, 4, 5]\n",
      "[1, 2, 3, 4]\n"
     ]
    }
   ],
   "source": [
    "#35)wap to delete the values at the ending of list\n",
    "s=[1,2,3,4,5]\n",
    "print(s)\n",
    "del s[-1]\n",
    "print(s)"
   ]
  },
  {
   "cell_type": "code",
   "execution_count": 68,
   "metadata": {},
   "outputs": [
    {
     "name": "stdout",
     "output_type": "stream",
     "text": [
      "[1, 3, 5, 7, 9, 11]\n",
      "[3, 5, 7, 9, 11]\n"
     ]
    }
   ],
   "source": [
    "#36)wap to delete new value at startinf of list\n",
    "s=[1,3,5,7,9,11]\n",
    "print(s)\n",
    "s[0:1]=[]\n",
    "print(s)"
   ]
  },
  {
   "cell_type": "code",
   "execution_count": 70,
   "metadata": {},
   "outputs": [
    {
     "name": "stdout",
     "output_type": "stream",
     "text": [
      "[1, 2, 3, 4, 5, 6]\n",
      "[1, 2, 3, 5, 6]\n"
     ]
    }
   ],
   "source": [
    "#37)wap to delete new value in the middle of the list\n",
    "s=[1,2,3,4,5,6]\n",
    "print(s)\n",
    "del s[len(s)//2]\n",
    "print(s)"
   ]
  },
  {
   "cell_type": "code",
   "execution_count": 71,
   "metadata": {},
   "outputs": [
    {
     "name": "stdout",
     "output_type": "stream",
     "text": [
      "(1, 2, 3, 4, 5)\n",
      "('a', 'b', 1, 2, 3, 4, 5)\n"
     ]
    }
   ],
   "source": [
    "#38)wap to concat the value at starting of tuple\n",
    "t=(1,2,3,4,5)\n",
    "print(t)\n",
    "t=('a','b')+t\n",
    "print(t)"
   ]
  },
  {
   "cell_type": "code",
   "execution_count": 72,
   "metadata": {},
   "outputs": [
    {
     "name": "stdout",
     "output_type": "stream",
     "text": [
      "(1, 2, 3, 4, 5)\n",
      "(1, 2, 'a', 'b', 3, 4, 5)\n"
     ]
    }
   ],
   "source": [
    "#39)wap to concat the value at the middle of tuple.\n",
    "t=(1,2,3,4,5)\n",
    "print(t)\n",
    "t=t[0:2]+('a','b')+t[2:]\n",
    "print(t)"
   ]
  },
  {
   "cell_type": "code",
   "execution_count": 69,
   "metadata": {},
   "outputs": [
    {
     "name": "stdout",
     "output_type": "stream",
     "text": [
      "(10, 10.12, True, 10)\n"
     ]
    }
   ],
   "source": [
    "#40)was to concat value ending of tuple\n",
    "t=(10,10.12,True)\n",
    "t+=(10,)\n",
    "print(t)"
   ]
  },
  {
   "cell_type": "code",
   "execution_count": 56,
   "metadata": {},
   "outputs": [
    {
     "name": "stdout",
     "output_type": "stream",
     "text": [
      "(10, 10.12, True, 'modified')\n"
     ]
    }
   ],
   "source": [
    "#41)was to modify sequence values in a tuple\n",
    "t=(10,10.12,True,50)\n",
    "print(t[0:3]+('modified',))"
   ]
  },
  {
   "cell_type": "code",
   "execution_count": 57,
   "metadata": {},
   "outputs": [
    {
     "name": "stdout",
     "output_type": "stream",
     "text": [
      "(10, [10, True])\n"
     ]
    }
   ],
   "source": [
    "#42)was to delete sequence of values in a tuple \n",
    "t=(10,10.12,True,'string',[10,True])\n",
    "print(t[:1]+t[-1:])"
   ]
  },
  {
   "cell_type": "code",
   "execution_count": 58,
   "metadata": {},
   "outputs": [
    {
     "name": "stdout",
     "output_type": "stream",
     "text": [
      "{50, 20, 40, 10, 30}\n"
     ]
    }
   ],
   "source": [
    "#43)was to concat the new value into the set\n",
    "s={10,20,30}\n",
    "s|={40,50}\n",
    "print(s)"
   ]
  },
  {
   "cell_type": "code",
   "execution_count": 59,
   "metadata": {},
   "outputs": [
    {
     "name": "stdout",
     "output_type": "stream",
     "text": [
      "{10, 30}\n"
     ]
    }
   ],
   "source": [
    "#44)was to delete specific value in a set\n",
    "s={10,20,30}\n",
    "s-={20}\n",
    "print(s)"
   ]
  },
  {
   "cell_type": "code",
   "execution_count": 60,
   "metadata": {},
   "outputs": [
    {
     "name": "stdout",
     "output_type": "stream",
     "text": [
      "{10: 20, 20: 30, 40: 50, 50: 309}\n",
      "{10: 20, 20: 30, 40: 50, 50: 309, 60: 70, 80: 90}\n"
     ]
    }
   ],
   "source": [
    "#45)was to concat new value and key to dict\n",
    "d={10:20,20:30,40:50}\n",
    "d[50]=309\n",
    "print(d) #to add single value\n",
    "e={60:70,80:90}\n",
    "d|=e\n",
    "print(d) #to add multiple values at a time"
   ]
  },
  {
   "cell_type": "code",
   "execution_count": 61,
   "metadata": {},
   "outputs": [
    {
     "name": "stdout",
     "output_type": "stream",
     "text": [
      "{10: 20, 40: 50}\n"
     ]
    }
   ],
   "source": [
    "#46)was to delete specific key and value in the given dict\n",
    "d={10:20,20:30,40:50}\n",
    "del d[20]\n",
    "print(d)"
   ]
  },
  {
   "cell_type": "code",
   "execution_count": 62,
   "metadata": {},
   "outputs": [
    {
     "name": "stdout",
     "output_type": "stream",
     "text": [
      "{10: 200, 20: 30, 40: 50}\n"
     ]
    }
   ],
   "source": [
    "#47)was to specific value in a given dict\n",
    "d={10:20,20:30,40:50}\n",
    "d[10]=200\n",
    "print(d)"
   ]
  },
  {
   "cell_type": "code",
   "execution_count": 63,
   "metadata": {},
   "outputs": [
    {
     "name": "stdout",
     "output_type": "stream",
     "text": [
      "[10, 10.12, True, 'string', 'a', 'b']\n"
     ]
    }
   ],
   "source": [
    "#48)was to concat list value and tuple values by using typecasting\n",
    "l=[10,10.12,True]\n",
    "t=(\"string\",'a','b')\n",
    "print(l+list(t))"
   ]
  },
  {
   "cell_type": "code",
   "execution_count": 64,
   "metadata": {},
   "outputs": [
    {
     "name": "stdout",
     "output_type": "stream",
     "text": [
      "[10, 10.12, True, 'string', 'a', 'b']\n"
     ]
    }
   ],
   "source": [
    "#49)was to concat list and tuple value without using typecasting\n",
    "l=[10,10.12,True]\n",
    "t=(\"string\",'a','b')\n",
    "l+=t\n",
    "print(l)"
   ]
  },
  {
   "cell_type": "code",
   "execution_count": 7,
   "metadata": {},
   "outputs": [
    {
     "data": {
      "text/plain": [
       "['a', 'b', 10, 20]"
      ]
     },
     "execution_count": 7,
     "metadata": {},
     "output_type": "execute_result"
    }
   ],
   "source": [
    "50# was to concat the list  value and tuple value without using type casting.\n",
    "l=[\"a\",\"b\"]\n",
    "t=(10,20)\n",
    "l+=t\n",
    "l"
   ]
  },
  {
   "cell_type": "code",
   "execution_count": 4,
   "metadata": {},
   "outputs": [
    {
     "data": {
      "text/plain": [
       "False"
      ]
     },
     "execution_count": 4,
     "metadata": {},
     "output_type": "execute_result"
    }
   ],
   "source": [
    "51# WAs to check the given number is number is divisable by 3\n",
    "n=9\n",
    "res=n%3\n",
    "res==0\n"
   ]
  },
  {
   "cell_type": "code",
   "execution_count": 5,
   "metadata": {},
   "outputs": [
    {
     "name": "stdout",
     "output_type": "stream",
     "text": [
      "False\n"
     ]
    }
   ],
   "source": [
    "52#was to check the given value divisiable 2 and 6\n",
    "n=21\n",
    "print(n%2==0 and n%6==0)"
   ]
  },
  {
   "cell_type": "code",
   "execution_count": 8,
   "metadata": {},
   "outputs": [
    {
     "data": {
      "text/plain": [
       "True"
      ]
     },
     "execution_count": 8,
     "metadata": {},
     "output_type": "execute_result"
    }
   ],
   "source": [
    "53#was the last dight is divisable by 3 form given integer number(without type casting).\n",
    "n=1996\n",
    "((n%10)%3)==0"
   ]
  },
  {
   "cell_type": "code",
   "execution_count": 9,
   "metadata": {},
   "outputs": [
    {
     "data": {
      "text/plain": [
       "9"
      ]
     },
     "execution_count": 9,
     "metadata": {},
     "output_type": "execute_result"
    }
   ],
   "source": [
    "54#was how extract the last dight in given integer number last two digit\n",
    "n=1999\n",
    "n%10"
   ]
  },
  {
   "cell_type": "code",
   "execution_count": 10,
   "metadata": {},
   "outputs": [
    {
     "data": {
      "text/plain": [
       "6"
      ]
     },
     "execution_count": 10,
     "metadata": {},
     "output_type": "execute_result"
    }
   ],
   "source": [
    "55#was to check the last dight is divisable by3 from given inter number (with type casting)\n",
    "n=2026\n",
    "int(str(n)[-1])\n",
    "\n"
   ]
  },
  {
   "cell_type": "code",
   "execution_count": 12,
   "metadata": {},
   "outputs": [
    {
     "data": {
      "text/plain": [
       "True"
      ]
     },
     "execution_count": 12,
     "metadata": {},
     "output_type": "execute_result"
    }
   ],
   "source": [
    "56#was to check the last dight is divisable by3 from given inter number (without type casting)\n",
    "n=2026\n",
    "int(str(n)[-1])%3==0"
   ]
  },
  {
   "cell_type": "code",
   "execution_count": 13,
   "metadata": {},
   "outputs": [
    {
     "name": "stdout",
     "output_type": "stream",
     "text": [
      "True\n"
     ]
    }
   ],
   "source": [
    "57#was the given number is greater than 150\n",
    "n=200\n",
    "print(n>150)"
   ]
  },
  {
   "cell_type": "code",
   "execution_count": 14,
   "metadata": {},
   "outputs": [
    {
     "name": "stdout",
     "output_type": "stream",
     "text": [
      "True\n"
     ]
    }
   ],
   "source": [
    "58# was the given number is greater than or equal to 100\n",
    "n=100\n",
    "print(n>=100)"
   ]
  },
  {
   "cell_type": "code",
   "execution_count": 15,
   "metadata": {},
   "outputs": [
    {
     "name": "stdout",
     "output_type": "stream",
     "text": [
      "True\n"
     ]
    }
   ],
   "source": [
    "59#was to check the given number is less than 150,print the result\n",
    "n=15\n",
    "print(n<150)"
   ]
  },
  {
   "cell_type": "code",
   "execution_count": 16,
   "metadata": {},
   "outputs": [
    {
     "name": "stdout",
     "output_type": "stream",
     "text": [
      "True\n"
     ]
    }
   ],
   "source": [
    "60# was to check the given number is less than or equal to 100\n",
    "n=100\n",
    "print(n<=100)"
   ]
  },
  {
   "cell_type": "code",
   "execution_count": 17,
   "metadata": {},
   "outputs": [
    {
     "name": "stdout",
     "output_type": "stream",
     "text": [
      "True\n"
     ]
    }
   ],
   "source": [
    "61#was to check the given number is greater than 15&less than 24\n",
    "n=20\n",
    "print(n>15 and n<=24)"
   ]
  },
  {
   "cell_type": "code",
   "execution_count": 18,
   "metadata": {},
   "outputs": [
    {
     "name": "stdout",
     "output_type": "stream",
     "text": [
      "True\n"
     ]
    }
   ],
   "source": [
    "62#was to check given number is even\n",
    "n=16\n",
    "print(n%2==0)"
   ]
  },
  {
   "cell_type": "code",
   "execution_count": 20,
   "metadata": {},
   "outputs": [
    {
     "name": "stdout",
     "output_type": "stream",
     "text": [
      "True\n"
     ]
    }
   ],
   "source": [
    "63#was to check given number is odd\n",
    "n=15\n",
    "print(n%2!=0)"
   ]
  },
  {
   "cell_type": "code",
   "execution_count": 21,
   "metadata": {},
   "outputs": [
    {
     "name": "stdout",
     "output_type": "stream",
     "text": [
      "abcabcabcabcabcabc\n"
     ]
    }
   ],
   "source": [
    "64#was  to check perform the replication of a given string with 6\n",
    "s=\"abc\"\n",
    "print(s*6)"
   ]
  },
  {
   "cell_type": "code",
   "execution_count": 24,
   "metadata": {},
   "outputs": [
    {
     "name": "stdout",
     "output_type": "stream",
     "text": [
      "False\n"
     ]
    }
   ],
   "source": [
    "65#was to check the given number is divisable by 3 and also the number greater than 22\n",
    "s=26\n",
    "print(s%3==0 and s>22)"
   ]
  },
  {
   "cell_type": "code",
   "execution_count": 26,
   "metadata": {},
   "outputs": [
    {
     "data": {
      "text/plain": [
       "True"
      ]
     },
     "execution_count": 26,
     "metadata": {},
     "output_type": "execute_result"
    }
   ],
   "source": [
    "66#was to check perform the length of collection is even (or) not\n",
    "g=\"pyspider\"\n",
    "len(g)%2==0\n"
   ]
  },
  {
   "cell_type": "code",
   "execution_count": 31,
   "metadata": {},
   "outputs": [
    {
     "data": {
      "text/plain": [
       "True"
      ]
     },
     "execution_count": 31,
     "metadata": {},
     "output_type": "execute_result"
    }
   ],
   "source": [
    "67#was to check perform the length of the collection is less than 55 and greater than 16\n",
    "n=\"abcdefghijklmnopqrstuvwxyz\"\n",
    "16<len(n)<55"
   ]
  },
  {
   "cell_type": "code",
   "execution_count": 34,
   "metadata": {},
   "outputs": [
    {
     "name": "stdout",
     "output_type": "stream",
     "text": [
      "True\n"
     ]
    }
   ],
   "source": [
    "68#was to check perform the length of the collection is divisable by 5 and odd.\n",
    "n=\"abcdefghijklmnopqrstuvwxy\"\n",
    "print(len(n)%5==0 and len(n)%2!=0)\n"
   ]
  },
  {
   "cell_type": "code",
   "execution_count": 37,
   "metadata": {},
   "outputs": [
    {
     "name": "stdout",
     "output_type": "stream",
     "text": [
      "True\n"
     ]
    }
   ],
   "source": [
    "69#was check extart the middle position of given collection is either (str, list,tuple)\n",
    "n=\"guru\"\n",
    "res=type(n[len(n)//2])\n",
    "print(res==str or res==list or tuple)\n"
   ]
  },
  {
   "cell_type": "code",
   "execution_count": 39,
   "metadata": {},
   "outputs": [
    {
     "name": "stdout",
     "output_type": "stream",
     "text": [
      "True\n"
     ]
    }
   ],
   "source": [
    "70#was to check the middle position of collection\n",
    "s=(10,\"haii\",30)\n",
    "res=type(s[len(s)//2])\n",
    "print(res in [str,list,tuple])"
   ]
  },
  {
   "cell_type": "code",
   "execution_count": 41,
   "metadata": {},
   "outputs": [
    {
     "name": "stdout",
     "output_type": "stream",
     "text": [
      "True\n"
     ]
    }
   ],
   "source": [
    "71#was to check the given number is greater than 20 and less than it should be even\n",
    "s= 50\n",
    "print(s%2==0 and s>20 )"
   ]
  },
  {
   "cell_type": "code",
   "execution_count": 42,
   "metadata": {},
   "outputs": [
    {
     "name": "stdout",
     "output_type": "stream",
     "text": [
      "True\n"
     ]
    }
   ],
   "source": [
    "72#was to check the given number is even and it should be less than 120\n",
    "s= 50\n",
    "print(s%2==0 and 120>s )\n"
   ]
  },
  {
   "cell_type": "code",
   "execution_count": 71,
   "metadata": {},
   "outputs": [
    {
     "name": "stdout",
     "output_type": "stream",
     "text": [
      "True\n"
     ]
    }
   ],
   "source": [
    "73#was to check the given number is even and present form 40 to 70\n",
    "s= 42\n",
    "print(s%2==0 and 40<s<70 )\n",
    "\n"
   ]
  },
  {
   "cell_type": "code",
   "execution_count": 45,
   "metadata": {},
   "outputs": [
    {
     "name": "stdout",
     "output_type": "stream",
     "text": [
      "True\n"
     ]
    }
   ],
   "source": [
    "74#was the given the number is odd and it should be greater than 97\n",
    "s= 101\n",
    "print(s%2!=0 and s>97 )\n"
   ]
  },
  {
   "cell_type": "code",
   "execution_count": 74,
   "metadata": {},
   "outputs": [
    {
     "name": "stdout",
     "output_type": "stream",
     "text": [
      "True\n"
     ]
    }
   ],
   "source": [
    "75#was to check the given number is less than 122 and greater than 48 and the number should be divisiable by 4\n",
    "s= 52\n",
    "print(122>s>48 and s%4==0 )"
   ]
  },
  {
   "cell_type": "code",
   "execution_count": 50,
   "metadata": {},
   "outputs": [
    {
     "name": "stdout",
     "output_type": "stream",
     "text": [
      "True\n",
      "100\n"
     ]
    }
   ],
   "source": [
    "75#was to check the given number is divisable by 3 or 5 displaying the value \n",
    "s= 100\n",
    "print(s%3==0 or s%5==0 )\n",
    "print(s)"
   ]
  },
  {
   "cell_type": "code",
   "execution_count": 59,
   "metadata": {},
   "outputs": [
    {
     "name": "stdout",
     "output_type": "stream",
     "text": [
      "True\n"
     ]
    }
   ],
   "source": [
    "75#was to check the given number is between 100 to 200 including the limit\n",
    "s=200\n",
    "print(100<=s and 200>=s)"
   ]
  },
  {
   "cell_type": "code",
   "execution_count": 62,
   "metadata": {},
   "outputs": [
    {
     "name": "stdout",
     "output_type": "stream",
     "text": [
      "True\n"
     ]
    }
   ],
   "source": [
    "75#was to check the given number is between 100 to 200\n",
    "s=199\n",
    "print(100<s and 200>s)"
   ]
  },
  {
   "cell_type": "code",
   "execution_count": 1,
   "metadata": {},
   "outputs": [
    {
     "name": "stdout",
     "output_type": "stream",
     "text": [
      "110\n",
      "True\n"
     ]
    }
   ],
   "source": [
    "#76 to check the given string last character ASCII value should be divisible 5 or not\n",
    "\n",
    "s=\"python\"\n",
    "a=ord(s[-1])\n",
    "print(a)\n",
    "print(a%5==0)"
   ]
  },
  {
   "cell_type": "code",
   "execution_count": 4,
   "metadata": {},
   "outputs": [
    {
     "name": "stdout",
     "output_type": "stream",
     "text": [
      "True\n"
     ]
    }
   ],
   "source": [
    "# 77 to check the number is between 80 and 130 and should be divisible by 3 and 4 last digit should be less than 9\n",
    "n=120\n",
    "print(80<n<130 and n%3==0 and n%4==0 and n%10<=9)"
   ]
  },
  {
   "cell_type": "code",
   "execution_count": 6,
   "metadata": {},
   "outputs": [
    {
     "name": "stdout",
     "output_type": "stream",
     "text": [
      "True\n",
      "False\n"
     ]
    }
   ],
   "source": [
    "# 78 to check the number even or less than 25\n",
    "n=24\n",
    "print(n%2==0 or n<25)\n",
    "n=27\n",
    "print(n%2==0 or n<25)"
   ]
  },
  {
   "cell_type": "code",
   "execution_count": 9,
   "metadata": {},
   "outputs": [
    {
     "name": "stdout",
     "output_type": "stream",
     "text": [
      "True\n",
      "True\n",
      "False\n"
     ]
    }
   ],
   "source": [
    "# 79 to check the number is even or greater than 25\n",
    "n=28\n",
    "print(n%2==0 or n>25)\n",
    "n=29\n",
    "print(n%2==0 or n>25)\n",
    "\n",
    "n=23\n",
    "print(n%2==0 or n>25)"
   ]
  },
  {
   "cell_type": "code",
   "execution_count": 10,
   "metadata": {},
   "outputs": [
    {
     "name": "stdout",
     "output_type": "stream",
     "text": [
      "True\n"
     ]
    }
   ],
   "source": [
    "# 80 to check the number is divisible by either 3 or 5\n",
    "n=18\n",
    "print(n%3==0 or n%5==0)"
   ]
  },
  {
   "cell_type": "code",
   "execution_count": 11,
   "metadata": {},
   "outputs": [
    {
     "name": "stdout",
     "output_type": "stream",
     "text": [
      "True\n"
     ]
    }
   ],
   "source": [
    "#81)wae to check given number is not a even number\n",
    "n=19\n",
    "print(n%2!=0)"
   ]
  },
  {
   "cell_type": "code",
   "execution_count": 12,
   "metadata": {},
   "outputs": [
    {
     "name": "stdout",
     "output_type": "stream",
     "text": [
      "True\n"
     ]
    }
   ],
   "source": [
    "#82)wae to check given number is not a odd numbe\n",
    "n=20\n",
    "print(n%2==0)"
   ]
  },
  {
   "cell_type": "code",
   "execution_count": 22,
   "metadata": {},
   "outputs": [
    {
     "name": "stdout",
     "output_type": "stream",
     "text": [
      "True\n"
     ]
    }
   ],
   "source": [
    "#83)wae to check number is not divisble by 3\n",
    "n=10\n",
    "print(n%3!=0)"
   ]
  },
  {
   "cell_type": "code",
   "execution_count": 7,
   "metadata": {},
   "outputs": [
    {
     "name": "stdout",
     "output_type": "stream",
     "text": [
      "True\n"
     ]
    }
   ],
   "source": [
    "#84)wae to check the given number is not divisible by 3 and 5\n",
    "n=56\n",
    "print(n%3!=0 and n%5!=0) \n"
   ]
  },
  {
   "cell_type": "code",
   "execution_count": 8,
   "metadata": {},
   "outputs": [
    {
     "name": "stdout",
     "output_type": "stream",
     "text": [
      "True\n"
     ]
    }
   ],
   "source": [
    "#85) wae to check the given number is not divisble 3 or 5\n",
    "n=33\n",
    "print(n%3!=0 or n%5!=0 )\n"
   ]
  },
  {
   "cell_type": "code",
   "execution_count": 11,
   "metadata": {},
   "outputs": [
    {
     "name": "stdout",
     "output_type": "stream",
     "text": [
      "False\n",
      "True\n"
     ]
    }
   ],
   "source": [
    "#86)wae to check given character ascii value is not divisible by 5\n",
    "ch='A'\n",
    "print(ord(ch)%5!=0)\n",
    "ch='B'\n",
    "print(ord(ch)%5!=0)"
   ]
  },
  {
   "cell_type": "code",
   "execution_count": 13,
   "metadata": {},
   "outputs": [
    {
     "name": "stdout",
     "output_type": "stream",
     "text": [
      "c\n"
     ]
    }
   ],
   "source": [
    "#87)wae to check to find out the ascii character of given number\n",
    "n=99\n",
    "print(chr(n))"
   ]
  },
  {
   "cell_type": "code",
   "execution_count": 14,
   "metadata": {},
   "outputs": [
    {
     "name": "stdout",
     "output_type": "stream",
     "text": [
      "65\n"
     ]
    }
   ],
   "source": [
    "#88)wae to check find out the ascii value in a given character\n",
    "ch='A'\n",
    "print(ord(ch))"
   ]
  },
  {
   "cell_type": "code",
   "execution_count": 16,
   "metadata": {},
   "outputs": [
    {
     "name": "stdout",
     "output_type": "stream",
     "text": [
      "True\n",
      "False\n",
      "True\n"
     ]
    }
   ],
   "source": [
    "#89)wae to check given character is uppercase or not\n",
    "ch='A'\n",
    "print('A'<=ch<='Z')\n",
    "char='BC'\n",
    "print( len(char)==1 and 'A'<= char<='Z')\n",
    "char='F'\n",
    "print( len(char)==1 and 65<=ord(char)<=90)"
   ]
  },
  {
   "cell_type": "code",
   "execution_count": 17,
   "metadata": {},
   "outputs": [
    {
     "name": "stdout",
     "output_type": "stream",
     "text": [
      "False\n"
     ]
    }
   ],
   "source": [
    "#90)wae to check the character is lowercase\n",
    "char='BC'\n",
    "print( len(char)==1 and 'a'<= char<='z')\n"
   ]
  },
  {
   "cell_type": "code",
   "execution_count": 19,
   "metadata": {},
   "outputs": [
    {
     "name": "stdout",
     "output_type": "stream",
     "text": [
      "False\n"
     ]
    }
   ],
   "source": [
    "#91)wap to check char is alphabet\n",
    "\n",
    "ch='0'\n",
    "print(len(ch)==1 and ('A'<=ch<='Z' or'a'<=ch<='z'))"
   ]
  },
  {
   "cell_type": "code",
   "execution_count": 20,
   "metadata": {},
   "outputs": [
    {
     "name": "stdout",
     "output_type": "stream",
     "text": [
      "True\n",
      "True\n",
      "False\n"
     ]
    }
   ],
   "source": [
    "#92)wap to check given character is ACSII number\n",
    "ch='5'\n",
    "print('0'<=ch<='9')\n",
    "print(len(ch)==1 and '0'<=ch<='9')\n",
    "ch='A'\n",
    "print(len(ch)==1 and'0'<=ch<='9')"
   ]
  },
  {
   "cell_type": "code",
   "execution_count": 21,
   "metadata": {},
   "outputs": [
    {
     "name": "stdout",
     "output_type": "stream",
     "text": [
      "False\n",
      "True\n",
      "True\n"
     ]
    }
   ],
   "source": [
    "#93)wap to check given char is special character\n",
    "ch='$'\n",
    "print('A'<=ch<='Z' or 'a'<=ch<='z' or '0'<=ch<='9')\n",
    "print(not('A'<=ch<='Z' or 'a'<=ch<='z' or '0'<=ch<='9'))\n",
    "ch='@'\n",
    "print(0<=ord(ch)<=47 or 58<=ord(ch)<=64 or 91<=ord(ch)<=96 or 123<=ord(ch)<=127)"
   ]
  },
  {
   "cell_type": "code",
   "execution_count": 17,
   "metadata": {},
   "outputs": [
    {
     "name": "stdout",
     "output_type": "stream",
     "text": [
      "True\n"
     ]
    }
   ],
   "source": [
    "#94)wap to check the given char is not a uppercase\n",
    "n=\"a\"\n",
    "print(not('A'<=n<='Z'))"
   ]
  },
  {
   "cell_type": "code",
   "execution_count": 21,
   "metadata": {},
   "outputs": [
    {
     "name": "stdout",
     "output_type": "stream",
     "text": [
      "True\n"
     ]
    }
   ],
   "source": [
    "#95)wap to check the given character should not be lowercase\n",
    "n='@'\n",
    "print(not('a'<=n<='z'))"
   ]
  },
  {
   "cell_type": "code",
   "execution_count": 23,
   "metadata": {},
   "outputs": [
    {
     "name": "stdout",
     "output_type": "stream",
     "text": [
      "True\n"
     ]
    }
   ],
   "source": [
    "#97)wap to check the given character should not be an ASCII number.\n",
    "ch='a'\n",
    "print(not(ord(ch)>=48 and ord(ch)<=58))"
   ]
  },
  {
   "cell_type": "code",
   "execution_count": 29,
   "metadata": {},
   "outputs": [
    {
     "name": "stdout",
     "output_type": "stream",
     "text": [
      "True\n",
      "False\n"
     ]
    }
   ],
   "source": [
    "#98)wap to check the given character should not be a special character.\n",
    "n='@'\n",
    "print(not('A'<=n<='Z'or'a'<=n<='z'or'0'<=n<='9'))\n",
    "ch='@'\n",
    "print(not(0<=ord(ch)<=47 or 58<=ord(ch)<=64 or 91<=ord(ch)<=96 or 123<=ord(ch)<=127))"
   ]
  },
  {
   "cell_type": "code",
   "execution_count": 31,
   "metadata": {},
   "outputs": [
    {
     "name": "stdout",
     "output_type": "stream",
     "text": [
      "True\n",
      "False\n"
     ]
    }
   ],
   "source": [
    "#99)wap to check the given character is a vowel.\n",
    "ch='u'\n",
    "print(ch in \"AEIOUaeiou\")\n",
    "ch=\"g\"\n",
    "print(ch in\"AEIOUaeiou\")"
   ]
  },
  {
   "cell_type": "code",
   "execution_count": 34,
   "metadata": {},
   "outputs": [
    {
     "name": "stdout",
     "output_type": "stream",
     "text": [
      "True\n",
      "False\n"
     ]
    }
   ],
   "source": [
    "#100)wap to check the given character is a consonant.\n",
    "ch=\"g\"\n",
    "print(not(ch in \"AEIOUaeiou\"))\n",
    "ch=\"a\"\n",
    "print(not(ch in\"AEIOUaeiou\"))\n"
   ]
  }
 ],
 "metadata": {
  "kernelspec": {
   "display_name": "Python 3",
   "language": "python",
   "name": "python3"
  },
  "language_info": {
   "codemirror_mode": {
    "name": "ipython",
    "version": 3
   },
   "file_extension": ".py",
   "mimetype": "text/x-python",
   "name": "python",
   "nbconvert_exporter": "python",
   "pygments_lexer": "ipython3",
   "version": "3.11.4"
  },
  "orig_nbformat": 4
 },
 "nbformat": 4,
 "nbformat_minor": 2
}
