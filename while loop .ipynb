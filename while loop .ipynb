{
 "cells": [
  {
   "cell_type": "code",
   "execution_count": 2,
   "metadata": {},
   "outputs": [
    {
     "name": "stdout",
     "output_type": "stream",
     "text": [
      "4\n"
     ]
    }
   ],
   "source": [
    "#wap to find out no of charcter in given str\n",
    "st='guru'\n",
    "count=0\n",
    "i=0\n",
    "while i<len(st):\n",
    "    count+=1\n",
    "    i+=1\n",
    "print(count)"
   ]
  },
  {
   "cell_type": "code",
   "execution_count": 3,
   "metadata": {},
   "outputs": [
    {
     "name": "stdout",
     "output_type": "stream",
     "text": [
      "4\n"
     ]
    }
   ],
   "source": [
    "#wap to count number of char given string without length function\n",
    "st='guru'\n",
    "count=0\n",
    "while st:\n",
    "    count+=1\n",
    "    st=st[:-1]\n",
    "print(count)\n"
   ]
  },
  {
   "cell_type": "code",
   "execution_count": 21,
   "metadata": {},
   "outputs": [
    {
     "name": "stdout",
     "output_type": "stream",
     "text": [
      "2\n"
     ]
    }
   ],
   "source": [
    "#wap to count the number of uppercase character from given string.\n",
    "st='GuRu'\n",
    "start=0\n",
    "count=0\n",
    "while start<len(st):\n",
    "    if 'A'<=st[start]<='Z':\n",
    "        count+=1\n",
    "    start+=1\n",
    "print(count)\n"
   ]
  },
  {
   "cell_type": "code",
   "execution_count": 24,
   "metadata": {},
   "outputs": [
    {
     "name": "stdout",
     "output_type": "stream",
     "text": [
      "uru\n"
     ]
    }
   ],
   "source": [
    "#wap to extract and store the lower case character from given string\n",
    "st='Guru'\n",
    "A=''\n",
    "start=0\n",
    "while start<len(st):\n",
    "    if 'a'<=st[start]<='z':\n",
    "        A+=st[start]\n",
    "    start+=1\n",
    "print(A)\n"
   ]
  },
  {
   "cell_type": "code",
   "execution_count": 26,
   "metadata": {},
   "outputs": [
    {
     "name": "stdout",
     "output_type": "stream",
     "text": [
      "@55\n"
     ]
    }
   ],
   "source": [
    "#wap to extract &store the special character and ascii number from given string \n",
    "n='Guru@55'\n",
    "start=0\n",
    "res=''\n",
    "while start<len(n):\n",
    "    if not('a'<=n[start]<='z' or'A'<=n[start]<='Z'):\n",
    "        res+=n[start]\n",
    "    start+=1\n",
    "print(res)\n",
    "\n"
   ]
  },
  {
   "cell_type": "code",
   "execution_count": 41,
   "metadata": {},
   "outputs": [
    {
     "name": "stdout",
     "output_type": "stream",
     "text": [
      "G uru 55 @\n"
     ]
    }
   ],
   "source": [
    "#wap to extract &store uppercase,lowercase,special charcter,ascii value \n",
    "st='Guru@55'\n",
    "start=0\n",
    "uc,lc,sc,sv='','','',''\n",
    "while start<len(st):\n",
    "    if 'A'<=st[start]<='Z':\n",
    "        uc+=st[start]\n",
    "    elif 'a'<=st[start]<='z':\n",
    "        lc+=st[start]\n",
    "    elif '0'<=st[start]<='9':\n",
    "        sc+=st[start]\n",
    "    else:\n",
    "        sv+=st[start]\n",
    "    start+=1\n",
    "print(uc,lc,sc,sv)\n"
   ]
  },
  {
   "cell_type": "code",
   "execution_count": 39,
   "metadata": {},
   "outputs": [
    {
     "name": "stdout",
     "output_type": "stream",
     "text": [
      "valid password\n"
     ]
    }
   ],
   "source": [
    "#wap to check given password is valid or not \n",
    "#constaint to display the valid password given string \n",
    "#invalid : invalid constaints\n",
    "#min two special character\n",
    "#min one numeric \n",
    "#min one lower case \n",
    "#min two upper case\n",
    "#min password should be 8 charcter \n",
    "#max password should be 16 charcter\n",
    "st='GUru@@55'\n",
    "start=0\n",
    "uc,lc,sc,sv=0,0,0,0\n",
    "while start<len(st):\n",
    "    if 'A'<=st[start]<='Z':\n",
    "        uc+=1\n",
    "    elif 'a'<=st[start]<='z':\n",
    "        lc+=1\n",
    "    elif '0'<=st[start]<='9':\n",
    "        sc+=1\n",
    "    else:\n",
    "        sv+=1\n",
    "    start+=1\n",
    "if uc>=2 and lc>=1 and sc>=1 and sv>=2:\n",
    "    print('valid password')\n",
    "else:\n",
    "    print('invalid password')\n",
    "    \n"
   ]
  },
  {
   "cell_type": "code",
   "execution_count": 8,
   "metadata": {},
   "outputs": [
    {
     "name": "stdout",
     "output_type": "stream",
     "text": [
      "vaild\n",
      "vaild\n",
      "vaild\n",
      "vaild\n",
      "vaild\n",
      "vaild\n",
      "vaild\n",
      "vaild\n",
      "vaild\n",
      "vaild\n",
      "vaild\n",
      "vaild\n",
      "vaild\n",
      "vaild\n",
      "vaild\n",
      "vaild\n",
      "vaild\n",
      "vaild\n",
      "vaild\n",
      "vaild\n",
      "vaild\n",
      "vaild\n"
     ]
    }
   ],
   "source": [
    "#wap to check given email id vaild or not to display or to display in valid email\n",
    "#constriant \n",
    "#not should be special character expect @ ,.\n",
    "#extract @\n",
    "#after @min one dot should be there and max two\n",
    "st='pyspiders.@gmail.co.in'\n",
    "x=0\n",
    "temp=0\n",
    "while x<len(st):\n",
    "    if not ('A'<=st[x]<='Z'or'a'<=st[x]<='z'or st[x] in '@.'):\n",
    "        temp+=1\n",
    "    x+=1\n",
    "    if temp==0:\n",
    "        if'@' in st and '.' in st:\n",
    "            start=0\n",
    "            pos=None\n",
    "            count=0\n",
    "            while start<len(st):\n",
    "                if '@' ==st[start]:\n",
    "                    pos=start\n",
    "                    count+=1\n",
    "                start+=1\n",
    "            if count==1:\n",
    "                if '.' in st[pos:]:\n",
    "                    c=0\n",
    "                    i=pos\n",
    "                    while i<len(st):\n",
    "                        if '.'==st[i]:\n",
    "                            c+=1\n",
    "                        i+=1\n",
    "                    if 1<=c<=2:\n",
    "                        print('vaild')\n",
    "                    else:\n",
    "                        print('invalid email id')\n",
    "                else:\n",
    "                    print('invaild email id')\n",
    "        else:\n",
    "            print('invaild email id')\n",
    "    else:\n",
    "        print('invaild email id')\n",
    "\n",
    "\n",
    "            \n",
    "\n",
    "\n",
    "                    "
   ]
  },
  {
   "cell_type": "code",
   "execution_count": 7,
   "metadata": {},
   "outputs": [
    {
     "ename": "IndexError",
     "evalue": "string index out of range",
     "output_type": "error",
     "traceback": [
      "\u001b[1;31m---------------------------------------------------------------------------\u001b[0m",
      "\u001b[1;31mIndexError\u001b[0m                                Traceback (most recent call last)",
      "Cell \u001b[1;32mIn[7], line 6\u001b[0m\n\u001b[0;32m      4\u001b[0m res\u001b[39m=\u001b[39m\u001b[39m'\u001b[39m\u001b[39m'\u001b[39m\n\u001b[0;32m      5\u001b[0m \u001b[39mwhile\u001b[39;00m start\u001b[39m<\u001b[39m\u001b[39m=\u001b[39m\u001b[39mlen\u001b[39m(n):\n\u001b[1;32m----> 6\u001b[0m     \u001b[39mif\u001b[39;00m \u001b[39m'\u001b[39m\u001b[39mA\u001b[39m\u001b[39m'\u001b[39m\u001b[39m<\u001b[39m\u001b[39m=\u001b[39mn[start]\u001b[39m<\u001b[39m\u001b[39m=\u001b[39m\u001b[39m'\u001b[39m\u001b[39mZ\u001b[39m\u001b[39m'\u001b[39m:\n\u001b[0;32m      7\u001b[0m         res\u001b[39m+\u001b[39m\u001b[39m=\u001b[39m\u001b[39mchr\u001b[39m(\u001b[39mord\u001b[39m(n[start])\u001b[39m+\u001b[39m\u001b[39m32\u001b[39m)\n\u001b[0;32m      8\u001b[0m     \u001b[39melse\u001b[39;00m:\n",
      "\u001b[1;31mIndexError\u001b[0m: string index out of range"
     ]
    }
   ],
   "source": [
    "#wap to convert uppercase to lowercase in given string\n",
    "n='Guru@5'\n",
    "start=0\n",
    "res=''\n",
    "while start<=len(n):\n",
    "    if 'A'<=n[start]<='Z':\n",
    "        res+=chr(ord(n[start])+32)\n",
    "    else:\n",
    "        res+=n[start]\n",
    "    start+=1\n",
    "print(res)\n"
   ]
  }
 ],
 "metadata": {
  "kernelspec": {
   "display_name": "Python 3",
   "language": "python",
   "name": "python3"
  },
  "language_info": {
   "codemirror_mode": {
    "name": "ipython",
    "version": 3
   },
   "file_extension": ".py",
   "mimetype": "text/x-python",
   "name": "python",
   "nbconvert_exporter": "python",
   "pygments_lexer": "ipython3",
   "version": "3.11.4"
  },
  "orig_nbformat": 4
 },
 "nbformat": 4,
 "nbformat_minor": 2
}
