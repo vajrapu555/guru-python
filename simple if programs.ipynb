{
 "cells": [
  {
   "cell_type": "code",
   "execution_count": 2,
   "metadata": {},
   "outputs": [
    {
     "name": "stdout",
     "output_type": "stream",
     "text": [
      "+ve\n"
     ]
    }
   ],
   "source": [
    "#1)WAP to check whether a number is positive. If Positive, print a message Positive\n",
    "n=10\n",
    "if n>=0:\n",
    "    print('+ve')\n",
    "\n",
    "    "
   ]
  },
  {
   "cell_type": "code",
   "execution_count": 7,
   "metadata": {},
   "outputs": [
    {
     "name": "stdout",
     "output_type": "stream",
     "text": [
      "hello world\n"
     ]
    }
   ],
   "source": [
    "# 2)WAP to display hello world if the number is greater than 1 and lesser than 5\n",
    "n=3\n",
    "if 1<n<5:\n",
    "    st=\"hello world\"\n",
    "    print(st)"
   ]
  },
  {
   "cell_type": "code",
   "execution_count": 10,
   "metadata": {},
   "outputs": [
    {
     "name": "stdout",
     "output_type": "stream",
     "text": [
      "fizz\n"
     ]
    }
   ],
   "source": [
    "#3)WAP to check whether the given number is divisible by 3 or not if print fizz\n",
    "n=9\n",
    "if n%3==0:\n",
    "    print('fizz')"
   ]
  },
  {
   "cell_type": "code",
   "execution_count": 11,
   "metadata": {},
   "outputs": [
    {
     "name": "stdout",
     "output_type": "stream",
     "text": [
      "(12+0j)\n"
     ]
    }
   ],
   "source": [
    "#4)WAP to check whether given input is divisible by 2 and 6. If the condition is satisfied, convert the given number into a complex number.\n",
    "n=12\n",
    "if n%2==0 and n%6==0:\n",
    "    n=complex(n)\n",
    "    print(n)\n"
   ]
  },
  {
   "cell_type": "code",
   "execution_count": 36,
   "metadata": {},
   "outputs": [
    {
     "name": "stdout",
     "output_type": "stream",
     "text": [
      "['3', '0']\n"
     ]
    }
   ],
   "source": [
    "#5WAP to check whether a given input is divisible by 3 or 5. If the condition is \n",
    "# satisfied, the number is converted to a list.\n",
    "# i/p: 30\n",
    "# o/p:[‘3’,’0’]\n",
    "number=30\n",
    "if number%2==0 and number%5==0:\n",
    "    print(list(str(number)))"
   ]
  },
  {
   "cell_type": "code",
   "execution_count": 20,
   "metadata": {},
   "outputs": [
    {
     "name": "stdout",
     "output_type": "stream",
     "text": [
      "10\n"
     ]
    }
   ],
   "source": [
    "#6 Write a program to check whether a given number is multiple of 5 or not\n",
    "n=10\n",
    "if n%5==0:\n",
    "    print(n)"
   ]
  },
  {
   "cell_type": "code",
   "execution_count": 21,
   "metadata": {},
   "outputs": [
    {
     "name": "stdout",
     "output_type": "stream",
     "text": [
      "0\n"
     ]
    }
   ],
   "source": [
    "#7 WAP to check whether the given input is 0 or not if 0 prints 0.\n",
    "n=0\n",
    "if n==0:\n",
    "    print(n)"
   ]
  },
  {
   "cell_type": "code",
   "execution_count": 24,
   "metadata": {},
   "outputs": [
    {
     "name": "stdout",
     "output_type": "stream",
     "text": [
      "negative\n"
     ]
    }
   ],
   "source": [
    "#8 WAP to check whether a number is negative. If negative, print a message negative.\n",
    "n=-25\n",
    "if n<0:\n",
    "    print(\"negative\")"
   ]
  },
  {
   "cell_type": "code",
   "execution_count": 33,
   "metadata": {},
   "outputs": [
    {
     "name": "stdout",
     "output_type": "stream",
     "text": [
      "['1', '0']\n"
     ]
    }
   ],
   "source": [
    "#9 WAP to check whether a number is even or not. If even, store the value inside the list.\n",
    "n=10\n",
    "if n%2==0:\n",
    "    m=list(str(n))\n",
    "    print(m)\n"
   ]
  },
  {
   "cell_type": "code",
   "execution_count": 39,
   "metadata": {},
   "outputs": [
    {
     "name": "stdout",
     "output_type": "stream",
     "text": [
      "('2', '1')\n"
     ]
    }
   ],
   "source": [
    "#10 WAP to check whether a number is odd or not. If odd, store the value inside the \n",
    "#tuple.\n",
    "number=21\n",
    "if number%2!=0:\n",
    "    print(tuple(str(number)))"
   ]
  },
  {
   "cell_type": "code",
   "execution_count": 44,
   "metadata": {},
   "outputs": [
    {
     "name": "stdout",
     "output_type": "stream",
     "text": [
      "160000\n"
     ]
    }
   ],
   "source": [
    "#11 WAP to check if the given number is even or not. if it is yes, to print the power of 4 in a given number\n",
    "number=20\n",
    "if number%2==0:\n",
    "    print(number**4)\n"
   ]
  },
  {
   "cell_type": "code",
   "execution_count": 32,
   "metadata": {},
   "outputs": [
    {
     "name": "stdout",
     "output_type": "stream",
     "text": [
      "244\n"
     ]
    }
   ],
   "source": [
    "#12 WAP to take the input from the user as a number and check whether it is a number or not. if yes. take the number and add some value and print it\n",
    "n=int(input(\"enter a number\"))\n",
    "if type(n)==int:\n",
    "    print(n+10)"
   ]
  },
  {
   "cell_type": "code",
   "execution_count": 47,
   "metadata": {},
   "outputs": [
    {
     "name": "stdout",
     "output_type": "stream",
     "text": [
      "hello world\n"
     ]
    }
   ],
   "source": [
    "#13 WAP to display hello world if the number is greater than 1 and less than 5.\n",
    "number=4\n",
    "if 1<number<5:\n",
    "    print(\"hello world\")\n",
    "number=7\n",
    "if 1<number<5:\n",
    "    print(\"hello world\")"
   ]
  },
  {
   "cell_type": "code",
   "execution_count": 48,
   "metadata": {},
   "outputs": [
    {
     "name": "stdout",
     "output_type": "stream",
     "text": [
      "1225\n"
     ]
    }
   ],
   "source": [
    "#14 AP to check whether a given value is divisible by 5 and 7. If the value is \n",
    "# divisible,to display the square of the values\n",
    "number=35\n",
    "if number%5==0 and number%7==0:\n",
    "    print(number**2)\n",
    "number=40\n",
    "if number%5==0 and number%7==0:\n",
    "    print(number**2)"
   ]
  },
  {
   "cell_type": "code",
   "execution_count": 50,
   "metadata": {},
   "outputs": [
    {
     "name": "stdout",
     "output_type": "stream",
     "text": [
      "169\n"
     ]
    }
   ],
   "source": [
    "#15 WAP to check whether the given value's last digit is greater than 5 or not.if \n",
    "# greater, to perform the bitwise right shift operator (skipping value is 2)\n",
    "n=678\n",
    "if n%10>5:\n",
    "    print(n>>2)"
   ]
  },
  {
   "cell_type": "code",
   "execution_count": 51,
   "metadata": {},
   "outputs": [
    {
     "name": "stdout",
     "output_type": "stream",
     "text": [
      "324\n"
     ]
    }
   ],
   "source": [
    "#16 WAP to check whether a given value is divisible by 3 and less than 30. If the value \n",
    "# is divisible,to display the square of the values.\n",
    "number=18\n",
    "if number%3==0 and number<30:\n",
    "    print(number**2)\n",
    "number=30\n",
    "if number%3==0 and number<30:\n",
    "    print(number**2)\n"
   ]
  },
  {
   "cell_type": "code",
   "execution_count": 54,
   "metadata": {},
   "outputs": [
    {
     "name": "stdout",
     "output_type": "stream",
     "text": [
      "8000\n"
     ]
    }
   ],
   "source": [
    "#17 WAP to check whether a given value is an even number and divisible by 4. If  satisfied ,to display the cube of the values.\n",
    "number=20\n",
    "if number%2==0 and number%4==0:\n",
    "    print(number**3)\n",
    "number=30\n",
    "if number%2==0 and number%4==0:\n",
    "    print(number**3)"
   ]
  },
  {
   "cell_type": "code",
   "execution_count": 31,
   "metadata": {},
   "outputs": [
    {
     "name": "stdout",
     "output_type": "stream",
     "text": [
      "['4', '0']\n"
     ]
    }
   ],
   "source": [
    "#18 WAP to check whether a given value is even or not. If the even number stores the value inside the list.\n",
    "number=40\n",
    "if number%2==0:\n",
    "    print(list(str(number)))\n",
    "\n",
    "    \n",
    "number=35\n",
    "if number%2==0:\n",
    "    print(list(str(number)))"
   ]
  },
  {
   "cell_type": "code",
   "execution_count": 57,
   "metadata": {},
   "outputs": [
    {
     "name": "stdout",
     "output_type": "stream",
     "text": [
      "0\n",
      "8\n"
     ]
    }
   ],
   "source": [
    "#19WAP to check whether a given value is a negative or even number. If satisfied ,to \n",
    "# display the last digit of the values.\n",
    "number=30\n",
    "if number%2==0 or number<0:\n",
    "    print(number%10)\n",
    "number=-22\n",
    "if number%2==0 or number<0:\n",
    "    print(number%10)"
   ]
  },
  {
   "cell_type": "code",
   "execution_count": 1,
   "metadata": {},
   "outputs": [
    {
     "name": "stdout",
     "output_type": "stream",
     "text": [
      "-13824\n",
      "12167\n"
     ]
    }
   ],
   "source": [
    "#20 WAP to check whether a given value is a negative or odd number and divisible \n",
    "# by 4. If satisfied ,to display the cube of the values.\n",
    "number=-24\n",
    "if number%2!=0 or number<0 and number%4==0:\n",
    "    print(number**3)\n",
    "number=23\n",
    "if number%2!=0 or number<0 and number%4==0:\n",
    "    print(number**3)"
   ]
  },
  {
   "cell_type": "code",
   "execution_count": 67,
   "metadata": {},
   "outputs": [
    {
     "name": "stdout",
     "output_type": "stream",
     "text": [
      "D\n",
      "/\n"
     ]
    }
   ],
   "source": [
    "#21 WAP to check whether a given ascii value is divisible by 4 and even value. If \n",
    "# satisfied, to display the ascii character.\n",
    "no=68\n",
    "if no%4==0 and no%2==0:\n",
    "    print(chr(no))\n",
    "\n",
    "n=47\n",
    "print(chr(n))\n"
   ]
  },
  {
   "cell_type": "code",
   "execution_count": 14,
   "metadata": {},
   "outputs": [
    {
     "name": "stdout",
     "output_type": "stream",
     "text": [
      "<\n"
     ]
    }
   ],
   "source": [
    "#22 WAP to check whether a given value is present in between 45 to 125 and the number should be divisible by 4 and 5 and even value. If satisfied, to display the \n",
    "# ascii character.\n",
    "n=60\n",
    "if 45<n<125 and n%2==0 and n%4==0 and n%5==0:\n",
    "    print(chr(n))\n"
   ]
  },
  {
   "cell_type": "code",
   "execution_count": 19,
   "metadata": {},
   "outputs": [
    {
     "name": "stdout",
     "output_type": "stream",
     "text": [
      "200\n"
     ]
    }
   ],
   "source": [
    "#23 WAP to check whether a given value is present in between 25 to 100 and the \n",
    "# number should be divisible by 4 and 5. If satisfied, to display multiplication of \n",
    "# given value with 5.\n",
    "n=40\n",
    "if n%4==0 and n%5==0:\n",
    "    print(n*5)"
   ]
  },
  {
   "cell_type": "code",
   "execution_count": 29,
   "metadata": {},
   "outputs": [
    {
     "name": "stdout",
     "output_type": "stream",
     "text": [
      "5\n",
      "6\n"
     ]
    }
   ],
   "source": [
    "#24 WAP to check whether a given number is an integer and odd number. If the \n",
    "# condition is satisfied, the integer is divisible by 5 and displays the result.\n",
    "n=25\n",
    "if type(n)==int and n%2!=0:\n",
    "    m=n//5\n",
    "    print(m)\n",
    "n=33\n",
    "if type(n)==int and n%2!=0:\n",
    "    m=n//5\n",
    "    print(m)\n",
    "\n"
   ]
  },
  {
   "cell_type": "code",
   "execution_count": 30,
   "metadata": {},
   "outputs": [
    {
     "name": "stdout",
     "output_type": "stream",
     "text": [
      "18\n"
     ]
    }
   ],
   "source": [
    "#25 WAP to check whether a given value is an integer or not. If integer, the given \n",
    "# value is converted to string and displays the result.\n",
    "number=18\n",
    "if type(number)==int:\n",
    "    print(str(number))"
   ]
  },
  {
   "cell_type": "code",
   "execution_count": 39,
   "metadata": {},
   "outputs": [
    {
     "name": "stdout",
     "output_type": "stream",
     "text": [
      "r\n"
     ]
    }
   ],
   "source": [
    "#26 WAP to check whether a given value is less than 125 and greater than 60 or not. \n",
    "# If the condition is satisfied, take the name and extract the middle character and \n",
    "# display it.\n",
    "n=100\n",
    "m=\"guru\"\n",
    "if 60<n<125:\n",
    "    print(m[len(m)//2])\n",
    " "
   ]
  },
  {
   "cell_type": "code",
   "execution_count": 42,
   "metadata": {},
   "outputs": [
    {
     "name": "stdout",
     "output_type": "stream",
     "text": [
      "20\n"
     ]
    }
   ],
   "source": [
    "#27 WAP to check whether a given two integers are equal or not. If both are equal, to \n",
    "# perform addition and display the result.\n",
    "number=10\n",
    "number2=10\n",
    "if number is number2:\n",
    "    print(number+number2)\n",
    "\n",
    "number=30\n",
    "number2=18\n",
    "if number is number2:\n",
    "    print(number+number2)"
   ]
  },
  {
   "cell_type": "code",
   "execution_count": 45,
   "metadata": {},
   "outputs": [
    {
     "name": "stdout",
     "output_type": "stream",
     "text": [
      "133\n"
     ]
    }
   ],
   "source": [
    "#28 WAP to check whether two values are equal or not. if equal, to perform \n",
    "# multiplication of two numbers and that result is division by 3 and display the \n",
    "# value\n",
    "number=20\n",
    "number1=20\n",
    "if number is number1:\n",
    "    m=number*number1\n",
    "    print(m//3)"
   ]
  },
  {
   "cell_type": "code",
   "execution_count": 47,
   "metadata": {},
   "outputs": [
    {
     "name": "stdout",
     "output_type": "stream",
     "text": [
      "{'a': 97}\n"
     ]
    }
   ],
   "source": [
    "#29 WAP to check whether a character is in the alphabet or not. If the alphabet, store \n",
    "# the value inside the dict(key as a character and value as an ascii value).\n",
    "c='a'\n",
    "if  'a'<=c<='z' or 'A'<= c<='Z' :\n",
    "    print({c:ord(c)})"
   ]
  },
  {
   "cell_type": "code",
   "execution_count": 48,
   "metadata": {},
   "outputs": [
    {
     "name": "stdout",
     "output_type": "stream",
     "text": [
      "{'A': 65}\n"
     ]
    }
   ],
   "source": [
    "#30 WAP to check whether a character is in the uppercase or not. If the uppercase, \n",
    "# store the value inside the dict(key as a character and value as an ascii value).\n",
    "c='A'\n",
    "if 'A'<= c<='Z':\n",
    "    print({c:ord(c)})"
   ]
  },
  {
   "cell_type": "code",
   "execution_count": 50,
   "metadata": {},
   "outputs": [
    {
     "name": "stdout",
     "output_type": "stream",
     "text": [
      "{'d': 100}\n"
     ]
    }
   ],
   "source": [
    "#31 WAP to check whether a character is in the uppercase or not. If the uppercase, \n",
    "# convert to lowercase and store the value inside the dict(character as a key and \n",
    "# ascii value as a value).\n",
    "v=\"D\"\n",
    "if 'A'<=v<='Z':\n",
    "    c=chr(ord(v)+32)\n",
    "    print({c:ord(c)})"
   ]
  },
  {
   "cell_type": "code",
   "execution_count": 68,
   "metadata": {},
   "outputs": [
    {
     "name": "stdout",
     "output_type": "stream",
     "text": [
      "ddddddd\n"
     ]
    }
   ],
   "source": [
    "#32 WAP to check whether a character is in the lowercase or not. If the lowercase, to \n",
    "# perform the replication operation on that character.\n",
    "n='d'\n",
    "if 'a'<=n<='z':\n",
    "    print(n*7)\n",
    "\n",
    "\n"
   ]
  },
  {
   "cell_type": "code",
   "execution_count": 74,
   "metadata": {},
   "outputs": [
    {
     "name": "stdout",
     "output_type": "stream",
     "text": [
      "97 <class 'int'>\n"
     ]
    }
   ],
   "source": [
    "#33 WAP to check whether a character is in the ascii number or not. If the ascii \n",
    "# number, to convert into integer. \n",
    "char='a'\n",
    "if 0<=ord(char)<=127:\n",
    "    x=int(ord(char))\n",
    "    print(x,type(x))"
   ]
  },
  {
   "cell_type": "code",
   "execution_count": 1,
   "metadata": {},
   "outputs": [
    {
     "name": "stdout",
     "output_type": "stream",
     "text": [
      "! 33\n"
     ]
    }
   ],
   "source": [
    "#34 WAP to check whether a character is in the special symbol or not. If the special \n",
    "# symbol, to display a symbol with ascii value.\n",
    "char='!'\n",
    "if not('A'<=char<='Z' or 'a'<=char<='z' or '0'<=char<='9'):\n",
    "    print(char,ord(char))\n"
   ]
  },
  {
   "cell_type": "code",
   "execution_count": 87,
   "metadata": {},
   "outputs": [
    {
     "name": "stdout",
     "output_type": "stream",
     "text": [
      "it is even number\n"
     ]
    }
   ],
   "source": [
    "#35 WAP to check whether a character is an even number or not. If the even number, \n",
    "# to display an even number.\n",
    "char='B'\n",
    "if ord(char)%2==0:\n",
    "    print('it is even number')"
   ]
  },
  {
   "cell_type": "code",
   "execution_count": 2,
   "metadata": {},
   "outputs": [
    {
     "name": "stdout",
     "output_type": "stream",
     "text": [
      "400\n"
     ]
    }
   ],
   "source": [
    "#36WAP to check whether a Given two integers a and b, if any of the integers is 10 \n",
    "# or if their sum is 10, to perform the sum of the numbers and to display the square \n",
    "# of the result\n",
    "a=10\n",
    "b=10\n",
    "if type(a)==int and type(b)==int and a==10 or b==10 or a+b==10:\n",
    "    print((a+b)**2)"
   ]
  },
  {
   "cell_type": "code",
   "execution_count": 3,
   "metadata": {},
   "outputs": [
    {
     "name": "stdout",
     "output_type": "stream",
     "text": [
      "F\n",
      "f\n"
     ]
    }
   ],
   "source": [
    "#37 WAP to check whether a character is in the vowel or not. If the vowel,print the \n",
    "# next character.\n",
    "char='E'\n",
    "if char in ['a','e','i','o','u','A','E','I','O','U']:\n",
    "    print(chr(ord(char)+1))\n",
    "char='e'\n",
    "if char in ['a','e','i','o','u','A','E','I','O','U']:\n",
    "    print(chr(ord(char)+1))\n",
    "char=''\n",
    "if char in ['a','e','i','o','u','A','E','I','O','U']:\n",
    "    print(chr(ord(char)+1))"
   ]
  },
  {
   "cell_type": "code",
   "execution_count": 5,
   "metadata": {},
   "outputs": [
    {
     "name": "stdout",
     "output_type": "stream",
     "text": [
      "E\n"
     ]
    }
   ],
   "source": [
    "#38 WAP to check whether a character is in the not a vowel. If it's not a vowel,print \n",
    "# the previous character.\n",
    "c=\"F\"\n",
    "if c not in ['a','e','i','o','u','A','E','I','O','U']:\n",
    "      print(chr(ord(c)-1))"
   ]
  },
  {
   "cell_type": "code",
   "execution_count": 7,
   "metadata": {},
   "outputs": [
    {
     "name": "stdout",
     "output_type": "stream",
     "text": [
      "it is a single value data type 10\n"
     ]
    }
   ],
   "source": [
    "#39 WAP to check whether a given value is a single value data type or not. If single \n",
    "# value, display the given value as a single value data type.\n",
    "value=10\n",
    "if type(value) in [int,float,complex,bool]:\n",
    "    print('it is a single value data type',value)"
   ]
  },
  {
   "cell_type": "code",
   "execution_count": 8,
   "metadata": {},
   "outputs": [
    {
     "name": "stdout",
     "output_type": "stream",
     "text": [
      "('g', 'u', 'r', 'u')\n"
     ]
    }
   ],
   "source": [
    "#40WAP to check whether a given value is a multi-value data type or not. If multi \n",
    "# value, store the given value inside the tuple and display it.\n",
    "value='guru'\n",
    "if type(value) in [str,list,tuple,set,dict]:\n",
    "    print(tuple(value))"
   ]
  },
  {
   "cell_type": "code",
   "execution_count": 11,
   "metadata": {},
   "outputs": [
    {
     "name": "stdout",
     "output_type": "stream",
     "text": [
      "{'a', 'g', 'u', 'b', 'r'}\n",
      "{'a', 'd', 'f', 'c', 'b', 'e'}\n"
     ]
    }
   ],
   "source": [
    "#41 WAP to check whether a given value is an immutable data type or not. If an \n",
    "# immutable data type value, store the given value inside the set and display it.\n",
    "n='guru'\n",
    "value1={'a','b'}\n",
    "if type(n) in [str,tuple]:\n",
    "    value1|=set(n)\n",
    "    print(value1)\n",
    "    value='cdef'\n",
    "value1={'a','b'}\n",
    "\n",
    "if type(value) in [tuple,str]:\n",
    "    value1|=set(value)\n",
    "    print(value1)"
   ]
  },
  {
   "cell_type": "code",
   "execution_count": 2,
   "metadata": {},
   "outputs": [
    {
     "name": "stdout",
     "output_type": "stream",
     "text": [
      "[10, 20, 30, 40, 50]\n",
      "31\n"
     ]
    }
   ],
   "source": [
    "#42 WAP to check whether the middle element of a given list is odd or not. If it is odd \n",
    "# then print odd then print the number else directly print the number\n",
    "l=[10,20,30,40,50]\n",
    "if l[len(l)//2]%2!=0:\n",
    "    print(l[len(l)//2])\n",
    "else:\n",
    "    print(l)\n",
    "l=[10,20,31,40,50]\n",
    "if l[len(l)//2]%2!=0:\n",
    "    print(l[len(l)//2])\n",
    "else:\n",
    "    print(l)"
   ]
  },
  {
   "cell_type": "code",
   "execution_count": 3,
   "metadata": {},
   "outputs": [
    {
     "name": "stdout",
     "output_type": "stream",
     "text": [
      "notstring\n"
     ]
    }
   ],
   "source": [
    "#43WAP Return a new string with \"not\" prefixed to the front of the original string. \n",
    "# Return the string unmodified if the string already has the word \"not\" at the beginning\n",
    "var='string'\n",
    "if var[:3]!='not':\n",
    "    var1='not'\n",
    "    var1+=var\n",
    "print(var1)\n"
   ]
  },
  {
   "cell_type": "code",
   "execution_count": 6,
   "metadata": {},
   "outputs": [
    {
     "name": "stdout",
     "output_type": "stream",
     "text": [
      "gurubha\n",
      "surya hai\n"
     ]
    }
   ],
   "source": [
    "# #44 WAP to check whether a given string(str) and one integer(n) value, to display a  new string that is devoid of the character at index n.\n",
    "# if you are given a non-empty string and an int n. The value of n will be a legitimate character index from the \n",
    "# original string, therefore it will fall within the range of 0 to len(str)-1, inclusive.\n",
    "strin='gurubhai'\n",
    "n=7\n",
    "if  n<=(len(strin)-1):\n",
    "    strin=strin[:n]+strin[n+1:]\n",
    "print(strin)\n",
    "strin='surya bhai'\n",
    "n=-4\n",
    "if  n<=(len(strin)-1):\n",
    "    strin=strin[:n]+strin[n+1:]\n",
    "print(strin)\n"
   ]
  },
  {
   "cell_type": "code",
   "execution_count": 7,
   "metadata": {},
   "outputs": [
    {
     "name": "stdout",
     "output_type": "stream",
     "text": [
      "2689354601520\n",
      "2689354601520\n"
     ]
    }
   ],
   "source": [
    "#45WAP to check whether the two variables are pointing to the same memory \n",
    "# location or not if they are pointing to the same memory location then print the \n",
    "# address of both the variables.\n",
    "v='guru'\n",
    "d='guru'\n",
    "if v is d:\n",
    "    print(id(v))\n",
    "    print(id(d))"
   ]
  },
  {
   "cell_type": "code",
   "execution_count": 10,
   "metadata": {},
   "outputs": [
    {
     "name": "stdout",
     "output_type": "stream",
     "text": [
      "gu\n"
     ]
    }
   ],
   "source": [
    "#46 WAP to check whether the given length of the string is even or not. If the \n",
    "# condition is satisfied, display the sequence of characters from zero position to \n",
    "# length of collection -2.\n",
    "s='guru'\n",
    "if len(s)%2==0:\n",
    "    c=s[0:(len(s)-2)]\n",
    "    print(c)\n"
   ]
  },
  {
   "cell_type": "code",
   "execution_count": 11,
   "metadata": {},
   "outputs": [
    {
     "name": "stdout",
     "output_type": "stream",
     "text": [
      "gdmk abcd\n"
     ]
    }
   ],
   "source": [
    "#47WAP to check whether the two given strings are having the same values or not. \n",
    "# If both are not the same values then swap the values of one variable to another \n",
    "# variable after swapping print the two values.\n",
    "a='abcd'\n",
    "b='gdmk'\n",
    "if a is not b:\n",
    "    swap=a\n",
    "    a=b\n",
    "    b=swap\n",
    "    print(a,b)"
   ]
  },
  {
   "cell_type": "code",
   "execution_count": 21,
   "metadata": {},
   "outputs": [
    {
     "name": "stdout",
     "output_type": "stream",
     "text": [
      "{'#': 35}\n"
     ]
    }
   ],
   "source": [
    "#48WAP to check whether a given character is a special symbol or not. If satisfied, \n",
    "# store the symbol as a key and value as a ascii value of the given character inside \n",
    "# the dictionary.\n",
    "a='#'\n",
    "b={}\n",
    "if not('A'<=a<='Z' or 'a'<=a<='z' or '0'<=a<='9'):\n",
    "    b|={a:ord(a)}\n",
    "print(b)"
   ]
  },
  {
   "cell_type": "code",
   "execution_count": 25,
   "metadata": {},
   "outputs": [
    {
     "name": "stdout",
     "output_type": "stream",
     "text": [
      "{10: 20, 20: 30, 40: 50, 30: 200}\n",
      "{90: 20, 50: 600, 60: 900}\n"
     ]
    }
   ],
   "source": [
    "#49 WAP to check whether a given key is not present in the dictionary or not. If the \n",
    "# key is not present, append the new key inside the dictionary.\n",
    "a={10:20,20:30,40:50}\n",
    "n=30\n",
    "if n not in a:\n",
    "    a[n]=200\n",
    "print(a)\n",
    "a={90:20,50:600}\n",
    "n=60\n",
    "if n not in a:\n",
    "    a[n]=900\n",
    "print(a)"
   ]
  },
  {
   "cell_type": "code",
   "execution_count": 22,
   "metadata": {},
   "outputs": [
    {
     "name": "stdout",
     "output_type": "stream",
     "text": [
      "uurg\n"
     ]
    }
   ],
   "source": [
    "#50WAP whether a given string, and it displays a new string with the first and last characters switched.\n",
    "s='guru'\n",
    "if type(s)==str:\n",
    "    s=s[len(s)-1]+s[1:(len(s)-1)]+s[len(s)-4]\n",
    "    print(s)\n"
   ]
  },
  {
   "cell_type": "code",
   "execution_count": 26,
   "metadata": {},
   "outputs": [
    {
     "name": "stdout",
     "output_type": "stream",
     "text": [
      "2\n"
     ]
    }
   ],
   "source": [
    "#51WAP to check whether the last digit should be 2 in the given number then print the last digit.\n",
    "n=122\n",
    "if type(n)==int and n%10==2:\n",
    "    print(n%10)\n"
   ]
  },
  {
   "cell_type": "code",
   "execution_count": 28,
   "metadata": {},
   "outputs": [
    {
     "name": "stdout",
     "output_type": "stream",
     "text": [
      "400\n"
     ]
    }
   ],
   "source": [
    "#52WAP to check whether a Given two integers a and b, if any of the integers is 10 or if their sum is 10,\n",
    "# to perform the sum of the numbers and to display the square of the result.\n",
    "a=10\n",
    "b=10\n",
    "if type(a)==int and type(b)==int and a+b==10 or a==10 and b==10 :\n",
    "    c=a+b\n",
    "    print(c**2)"
   ]
  },
  {
   "cell_type": "code",
   "execution_count": 31,
   "metadata": {},
   "outputs": [
    {
     "name": "stdout",
     "output_type": "stream",
     "text": [
      "8 straaabc\n",
      "5 3\n"
     ]
    }
   ],
   "source": [
    "#53 WAP to check whether both string collections are equal or not if it is not equal \n",
    "# print the both strings along with the length of a string if both are equal ignore it\n",
    "a='straa'\n",
    "b='abc'\n",
    "if a is not b:\n",
    "    c=a+b\n",
    "    print(len(c),c)\n",
    "    print(len(a),len(b))"
   ]
  },
  {
   "cell_type": "code",
   "execution_count": 24,
   "metadata": {},
   "outputs": [
    {
     "name": "stdout",
     "output_type": "stream",
     "text": [
      "murug\n",
      "gurumurthy\n"
     ]
    }
   ],
   "source": [
    "# write a program of a given string if length of string is even concat the new string to the given string if it is odd reverse the given string\n",
    "n='gurum'\n",
    "if len(n)%2==0:\n",
    "    m=n+'murthy'\n",
    "    print(m)\n",
    "else:\n",
    "    print(n[-1:-6:-1])\n",
    "\n",
    "n='guru'\n",
    "if len(n)%2==0:\n",
    "    m=n+'murthy'\n",
    "    print(m)\n",
    "else:\n",
    "    print(n[-1:-6:-1])\n",
    "\n",
    "    \n"
   ]
  },
  {
   "cell_type": "code",
   "execution_count": 64,
   "metadata": {},
   "outputs": [
    {
     "name": "stdout",
     "output_type": "stream",
     "text": [
      "{'a': 10, 'b': 60, 'c': 40}\n"
     ]
    }
   ],
   "source": [
    "# program to check wheater given key is not present in dict or not if it is present modify the key value with multiple of two \n",
    "#if it is not present append the new key inside the dict\n",
    "g={'a':10,'b':20,'c':40}\n",
    "if 'b' in g: \n",
    "    g['b']|=20*2\n",
    "    print(g)\n",
    "\n",
    "else :\n",
    "    g|={'d':25}\n",
    "    print(g)\n"
   ]
  },
  {
   "cell_type": "code",
   "execution_count": 42,
   "metadata": {},
   "outputs": [
    {
     "name": "stdout",
     "output_type": "stream",
     "text": [
      "97\n"
     ]
    }
   ],
   "source": [
    "# write a program wheater the given charcter or not if it is special charcter print special charcter if it not special charcter print the ascii value\n",
    "n='a'\n",
    "if not('A'<=n<='Z' or 'a'<=n<='z' or '0'<=n<='9'):\n",
    "    print(n)\n",
    "else:\n",
    "    print(ord(n))"
   ]
  },
  {
   "cell_type": "code",
   "execution_count": 60,
   "metadata": {},
   "outputs": [
    {
     "name": "stdout",
     "output_type": "stream",
     "text": [
      "{'g': 'uru'}\n"
     ]
    }
   ],
   "source": [
    "# if given input is a collection data type if it is list modify the middle value with the new value if it is tuple append new value starting of the tuple \n",
    "#if it is set concat new value to set if it is string is  first charater key then come with dict \n",
    "n='guru'\n",
    "y={}\n",
    "if type(n)==list:\n",
    "    n[-2]=50\n",
    "    print(n)\n",
    "elif type(n)==tuple:\n",
    "    n=(100,) + n\n",
    "    print(n)\n",
    "elif type(n)==set:\n",
    "    n|={100}\n",
    "    print(n)\n",
    "elif type(n)==str:\n",
    "    m={n[0]:n[1:]}\n",
    "    print(m)\n",
    "\n"
   ]
  }
 ],
 "metadata": {
  "kernelspec": {
   "display_name": "Python 3",
   "language": "python",
   "name": "python3"
  },
  "language_info": {
   "codemirror_mode": {
    "name": "ipython",
    "version": 3
   },
   "file_extension": ".py",
   "mimetype": "text/x-python",
   "name": "python",
   "nbconvert_exporter": "python",
   "pygments_lexer": "ipython3",
   "version": "3.11.4"
  },
  "orig_nbformat": 4
 },
 "nbformat": 4,
 "nbformat_minor": 2
}
