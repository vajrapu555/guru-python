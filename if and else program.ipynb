{
 "cells": [
  {
   "cell_type": "code",
   "execution_count": null,
   "metadata": {},
   "outputs": [],
   "source": [
    "v=[10,30,40,50]\n",
    "b=[20,30,40,50]\n",
    "if type(v)==int and type(b)==int:\n",
    "    if type(v)==list and type(b)==list:\n",
    "        v+=b\n",
    "        print(id(v),id(b),v)\n",
    "        if type(v)==dict and type(b)==dict:\n",
    "            v|=b['a']\n",
    "            print(v)\n",
    "            v|=b\n",
    "            print(v)\n",
    "            \n",
    "\n"
   ]
  },
  {
   "cell_type": "code",
   "execution_count": null,
   "metadata": {},
   "outputs": [
    {
     "ename": "SyntaxError",
     "evalue": "incomplete input (4096959777.py, line 14)",
     "output_type": "error",
     "traceback": [
      "\u001b[1;36m  Cell \u001b[1;32mIn[23], line 14\u001b[1;36m\u001b[0m\n\u001b[1;33m    \u001b[0m\n\u001b[1;37m    ^\u001b[0m\n\u001b[1;31mSyntaxError\u001b[0m\u001b[1;31m:\u001b[0m incomplete input\n"
     ]
    }
   ],
   "source": [
    "v={'a':10,'b':30,'c':40,'d':50}\n",
    "b={'h':10,'g':30,'f':40,'e':50}\n",
    "if type(v)==dict and type(b)==dict:\n",
    "    \n",
    "    print(v)\n",
    "    v|=b\n",
    "    print(v)\n",
    "    if type(v)==bool or type(b)==bool or type(v)==None or type(v)==None:\n",
    "        g=str(v)\n",
    "        h=str(b)\n",
    "        print(type(g),g,type(h),h)\n",
    "        if type(v)==complex and type(b)==complex:\n",
    "                v=v-7j\n",
    "                b=b-80j\n",
    "                print(v,b)\n",
    "                \n",
    "            \n",
    "\n",
    "\n",
    "\n",
    "    \n",
    "            "
   ]
  },
  {
   "cell_type": "code",
   "execution_count": null,
   "metadata": {},
   "outputs": [
    {
     "ename": "TypeError",
     "evalue": "ord() expected a character, but string of length 4 found",
     "output_type": "error",
     "traceback": [
      "\u001b[1;31m---------------------------------------------------------------------------\u001b[0m",
      "\u001b[1;31mTypeError\u001b[0m                                 Traceback (most recent call last)",
      "Cell \u001b[1;32mIn[35], line 4\u001b[0m\n\u001b[0;32m      2\u001b[0m b\u001b[39m=\u001b[39m\u001b[39mb\u001b[39m\u001b[39m'\u001b[39m\u001b[39m1101\u001b[39m\u001b[39m'\u001b[39m\n\u001b[0;32m      3\u001b[0m \u001b[39mif\u001b[39;00m \u001b[39mtype\u001b[39m(v)\u001b[39m==\u001b[39m\u001b[39mbytes\u001b[39m \u001b[39mor\u001b[39;00m \u001b[39mtype\u001b[39m(b)\u001b[39m==\u001b[39m\u001b[39mbytes\u001b[39m:\n\u001b[1;32m----> 4\u001b[0m     g\u001b[39m=\u001b[39m\u001b[39mord\u001b[39;49m(v)\n\u001b[0;32m      5\u001b[0m     \u001b[39mprint\u001b[39m(g)\n",
      "\u001b[1;31mTypeError\u001b[0m: ord() expected a character, but string of length 4 found"
     ]
    }
   ],
   "source": [
    "v=b'1010'\n",
    "b=b'1101'\n",
    "if type(v)==bytes or type(b)==bytes:\n",
    "    g=ord(v)\n",
    "    print(g)"
   ]
  },
  {
   "cell_type": "code",
   "execution_count": null,
   "metadata": {},
   "outputs": [
    {
     "name": "stdout",
     "output_type": "stream",
     "text": [
      "positive 50\n"
     ]
    }
   ],
   "source": [
    "#1)WAP to check whether a number is positive or negative. If Positive print positive \n",
    "#message or else print Negative Number\n",
    "n=50\n",
    "if n>0:\n",
    "    print('positive',n)\n",
    "else:\n",
    "    print('negitive',n)\n"
   ]
  },
  {
   "cell_type": "code",
   "execution_count": null,
   "metadata": {},
   "outputs": [
    {
     "name": "stdout",
     "output_type": "stream",
     "text": [
      "odd 45\n"
     ]
    }
   ],
   "source": [
    "#2)WAP to check whether a number is even or odd. If even, print message an even \n",
    "#or else print message as odd.\n",
    "n=45\n",
    "if n%2==0:\n",
    "    print('even:',n)\n",
    "else:\n",
    "    print('odd',n)"
   ]
  },
  {
   "cell_type": "code",
   "execution_count": null,
   "metadata": {},
   "outputs": [
    {
     "name": "stdout",
     "output_type": "stream",
     "text": [
      "greater than 10 20\n"
     ]
    }
   ],
   "source": [
    "#3)Write a program to check whether a given number is greater than 10 or not. if it \n",
    "#is greater than 10 print message as greater or else print that number with not a \n",
    "#greater than.\n",
    "n=20\n",
    "if n>10:\n",
    "    print('greater than 10:',n)\n",
    "else:\n",
    "    print('not greater than')"
   ]
  },
  {
   "cell_type": "code",
   "execution_count": null,
   "metadata": {},
   "outputs": [
    {
     "name": "stdout",
     "output_type": "stream",
     "text": [
      "good morning\n"
     ]
    }
   ],
   "source": [
    "#4)WAP to check whether the given two input numbers are divisible by 3 and 5. If it \n",
    "#is divisible, print “Good Morning”, if it is not divisible print “Good Evening”.\n",
    "n=15\n",
    "m=30\n",
    "if n%3==0 and n%5==0 and m%3==0 and m%5==0:\n",
    "    print('good morning')\n",
    "else:\n",
    "    print('good evening')\n",
    "    "
   ]
  },
  {
   "cell_type": "code",
   "execution_count": null,
   "metadata": {},
   "outputs": [
    {
     "name": "stdout",
     "output_type": "stream",
     "text": [
      "\"\"\n"
     ]
    }
   ],
   "source": [
    "#5)WAP to accept two integers and check whether those two values are equal or not.\n",
    "#If equal, multiply to value or else to display the quotation value.\n",
    "n=10\n",
    "m=1\n",
    "if m is n:\n",
    "    print(m*n)\n",
    "else:\n",
    "    print(f'\"\"')"
   ]
  },
  {
   "cell_type": "code",
   "execution_count": null,
   "metadata": {},
   "outputs": [
    {
     "name": "stdout",
     "output_type": "stream",
     "text": [
      "greater\n"
     ]
    }
   ],
   "source": [
    "#6)WAP to find the largest of two numbers\n",
    "n=10\n",
    "m=50\n",
    "if m>n:\n",
    "    print('greater')\n",
    "else:\n",
    "    print('greater')"
   ]
  },
  {
   "cell_type": "code",
   "execution_count": null,
   "metadata": {},
   "outputs": [
    {
     "name": "stdout",
     "output_type": "stream",
     "text": [
      "5\n"
     ]
    }
   ],
   "source": [
    "#7)WAP to check whether the input number is greater than 10 or not if it is greater \n",
    "#than 10 print messages as greater with number. if it is not a greater than 10 print \n",
    "#that number.\n",
    "n=5\n",
    "if n>10:\n",
    "    print('greater than 10:',n)\n",
    "else:\n",
    "    print(n)"
   ]
  },
  {
   "cell_type": "code",
   "execution_count": null,
   "metadata": {},
   "outputs": [
    {
     "name": "stdout",
     "output_type": "stream",
     "text": [
      "6\n"
     ]
    }
   ],
   "source": [
    "#8)WAP to the given number integer, if n is greater than 21,print the absolute \n",
    "#difference between n and 21 otherwise print twice the absolute difference.\n",
    "n=18\n",
    "if n>21:\n",
    "    m=21-n\n",
    "    print(abs(m))\n",
    "else:\n",
    "    m=21-n\n",
    "    print(abs(m*2))"
   ]
  },
  {
   "cell_type": "code",
   "execution_count": null,
   "metadata": {},
   "outputs": [
    {
     "name": "stdout",
     "output_type": "stream",
     "text": [
      "smallest 10\n"
     ]
    }
   ],
   "source": [
    "#9)WAP to find the smallest of two numbers.\n",
    "n=10\n",
    "m=50\n",
    "if m>n:\n",
    "    print('smallest',n)\n",
    "else:\n",
    "    print('smallest',m)"
   ]
  },
  {
   "cell_type": "code",
   "execution_count": null,
   "metadata": {},
   "outputs": [
    {
     "name": "stdout",
     "output_type": "stream",
     "text": [
      "even: 44\n"
     ]
    }
   ],
   "source": [
    "#10)WAP to check whether the given number is even or odd. If it is even then make \n",
    "#it as an odd number, if it is an odd number then make it as even number.\n",
    "n=45\n",
    "if n%2==0:\n",
    "    print('odd:',n-1)\n",
    "else:\n",
    "    print('even:',n-1)"
   ]
  },
  {
   "cell_type": "code",
   "execution_count": null,
   "metadata": {},
   "outputs": [
    {
     "name": "stdout",
     "output_type": "stream",
     "text": [
      "274625\n",
      "15\n"
     ]
    }
   ],
   "source": [
    "#11)WAP to check whether the given number is divisible by 3 or not if yes, print the \n",
    "#number or else print the cube of the numbers.\n",
    "n=65\n",
    "if n%3==0:\n",
    "    print(n)\n",
    "else:\n",
    "    print(n**3)\n",
    "\n",
    "n=15\n",
    "if n%3==0:\n",
    "    print(n)\n",
    "else:\n",
    "    print(n**3)\n",
    "\n"
   ]
  },
  {
   "cell_type": "code",
   "execution_count": null,
   "metadata": {},
   "outputs": [
    {
     "name": "stdout",
     "output_type": "stream",
     "text": [
      "<class 'str'> 50\n"
     ]
    }
   ],
   "source": [
    "#12)WAP to check whether the given input is divisible by 3 and 5. If yes print the \n",
    "#actual number or else print string of that number\n",
    "n=50\n",
    "if n%3==0 and n%5==0:\n",
    "    print(n)\n",
    "else:\n",
    "    s=str(n)\n",
    "    print(type(s),s)"
   ]
  },
  {
   "cell_type": "code",
   "execution_count": null,
   "metadata": {},
   "outputs": [
    {
     "name": "stdout",
     "output_type": "stream",
     "text": [
      "9261\n"
     ]
    }
   ],
   "source": [
    "#13)WAP to check whether the given number lies between 1 to 19, if it is true square \n",
    "#that number or else false cube that number and display the number.\n",
    "k=21\n",
    "if 1<k<19:\n",
    "    print(k**2)\n",
    "else:\n",
    "    print(k**3)"
   ]
  },
  {
   "cell_type": "code",
   "execution_count": null,
   "metadata": {},
   "outputs": [
    {
     "name": "stdout",
     "output_type": "stream",
     "text": [
      "pass 50\n"
     ]
    }
   ],
   "source": [
    "#14)WAP to check whether the student has passed or failed. If the student got more \n",
    "#than 40 marks, print ‘PASS’ along with those marks, if it is not printed ‘FAIL’ along \n",
    "#with those marks.\n",
    "n=50\n",
    "if n>40:\n",
    "    print(\"pass\",n)\n",
    "else:\n",
    "    print('fail',n)"
   ]
  },
  {
   "cell_type": "code",
   "execution_count": null,
   "metadata": {},
   "outputs": [
    {
     "name": "stdout",
     "output_type": "stream",
     "text": [
      "18 90\n",
      "8 56\n"
     ]
    }
   ],
   "source": [
    "#15)WAP to check whether a given value is even and in range of 47 to 58 and not in 0 \n",
    "#or odd. if condition is True, to perform display the ascii character. or else to \n",
    "#perform floor division with 5 and display it.\n",
    "n=90\n",
    "if n%2==0 and 47<n<58 :\n",
    "    print(chr(n))\n",
    "else:\n",
    "    print(n//5,n)\n",
    "\n",
    "n=56\n",
    "if n%2==0 and 47<n<58 :\n",
    "    print(chr(n),n)\n",
    "else:\n",
    "    print(n//5,n)"
   ]
  },
  {
   "cell_type": "code",
   "execution_count": null,
   "metadata": {},
   "outputs": [
    {
     "name": "stdout",
     "output_type": "stream",
     "text": [
      "{50: '2'}\n"
     ]
    }
   ],
   "source": [
    "#16)WAP to check whether a given value is less than 125 and in between 47 to 125 or \n",
    "#not. if condition is True, to perform store the given value as key and value as a \n",
    "#character into the dict or else to append the value in list and display it.\n",
    "n=50\n",
    "h={}\n",
    "g=[]\n",
    "if n<125 and 47<n<125 :\n",
    "    h|={n:chr(n)}\n",
    "    print(h)\n",
    "else:\n",
    "    g+=[n]\n",
    "    print(g)\n"
   ]
  },
  {
   "cell_type": "code",
   "execution_count": null,
   "metadata": {},
   "outputs": [
    {
     "name": "stdout",
     "output_type": "stream",
     "text": [
      "the alphabet : a\n"
     ]
    }
   ],
   "source": [
    "#17)WAP to check whether a given character is in the alphabet or not. if alphabet, \n",
    "#display the alphabet with character or else display the not alphabet with \n",
    "#character.\n",
    "n='a'\n",
    "if 'A'<=n<='Z' or 'a'<=n<='z':\n",
    "    print('the alphabet :',n)\n",
    "else:\n",
    "    print('it not a alphabet',n)\n"
   ]
  },
  {
   "cell_type": "code",
   "execution_count": null,
   "metadata": {},
   "outputs": [
    {
     "name": "stdout",
     "output_type": "stream",
     "text": [
      "the upper case A\n"
     ]
    }
   ],
   "source": [
    "#18)WAP to check whether a given character is uppercase or other character. if \n",
    "#uppercase, display the uppercase with character or else display the other \n",
    "#character with character\n",
    "n='A'\n",
    "if 'A'<=n<='Z':\n",
    "    print('the upper case',n)\n",
    "else:\n",
    "    print('the other character',n)"
   ]
  },
  {
   "cell_type": "code",
   "execution_count": null,
   "metadata": {},
   "outputs": [
    {
     "name": "stdout",
     "output_type": "stream",
     "text": [
      "the lower case a\n"
     ]
    }
   ],
   "source": [
    "#19)WAP to check whether a given character is lowercase or other character. if \n",
    "#lowercase, display the lowercase with character or else display the other\n",
    "#character with character\n",
    "n='a'\n",
    "if 'a'<=n<='z':\n",
    "    print('the lower case',n)\n",
    "else:\n",
    "    print('the other character',n)"
   ]
  },
  {
   "cell_type": "code",
   "execution_count": null,
   "metadata": {},
   "outputs": [
    {
     "name": "stdout",
     "output_type": "stream",
     "text": [
      "the lower case a\n",
      "the other character 97\n"
     ]
    }
   ],
   "source": [
    "#20)WAP to check whether a given character is uppercase or other character. if \n",
    "#uppercase, convert to lowercase .or else display the ascii number.\n",
    "n='A'\n",
    "if 'A'<=n<='Z':\n",
    "    print('the lower case',chr(ord(n)+32))\n",
    "else:\n",
    "    print('the other character',ord(n))\n",
    "\n",
    "n='a'\n",
    "if 'A'<=n<='Z':\n",
    "    print('the lower case',chr(ord(n)+32))\n",
    "else:\n",
    "    print('the other character',ord(n))"
   ]
  },
  {
   "cell_type": "code",
   "execution_count": null,
   "metadata": {},
   "outputs": [
    {
     "name": "stdout",
     "output_type": "stream",
     "text": [
      "the upper case A\n"
     ]
    }
   ],
   "source": [
    "#21)WAP to check whether the given character is in lowercase or uppercase. If it is \n",
    "#in lowercase, convert it into uppercase, or else it is in uppercase and convert it \n",
    "#into lowercase. Display the value.\n",
    "\n",
    "n='a'\n",
    "if 'a'<=n<='z':\n",
    "    print('the upper case',chr(ord(n)-32))\n",
    "elif 'A'<=n<='Z':\n",
    "    print('the lowercase',chr(ord(n)+32))"
   ]
  },
  {
   "cell_type": "code",
   "execution_count": null,
   "metadata": {},
   "outputs": [
    {
     "name": "stdout",
     "output_type": "stream",
     "text": [
      "e\n",
      "erifesa\n"
     ]
    }
   ],
   "source": [
    "#22)WAP to check whether the given string of the first character is a special symbol \n",
    "#or not. If a special symbol, to extract and display the middle character or else to \n",
    "#reverse the string and display the half of the string.\n",
    "var='!salaarceasefire'\n",
    "if not('a'<=var[0]<='z' or 'A'<=var[0]<='Z' or '0'<=var[0]<='9'):\n",
    "    midvalue=var[len(var)//2]\n",
    "    print(midvalue)\n",
    "else:\n",
    "    reverse=var[::-1]\n",
    "    halfstr=reverse[:len(var)//2]\n",
    "    print(halfstr)\n",
    "\n",
    "\n",
    "var='salaarceasefire'\n",
    "if not('a'<=var[0]<='z' or 'A'<=var[0]<='Z' or '0'<=var[0]<='9'):\n",
    "    midvalue=var[len(var)//2]\n",
    "    print(midvalue)\n",
    "else:\n",
    "    reverse=var[::-1]\n",
    "    halfstr=reverse[:len(var)//2]\n",
    "    print(halfstr)\n",
    "\n"
   ]
  },
  {
   "cell_type": "code",
   "execution_count": null,
   "metadata": {},
   "outputs": [
    {
     "name": "stdout",
     "output_type": "stream",
     "text": [
      "VOWEL\n",
      "CONSONENT\n"
     ]
    }
   ],
   "source": [
    "##23WAP to check whether the input character is a vowel or not. If it is vowel print \n",
    "# ‘VOWEL’ along with that character, if it is not just print ‘CONSONANT’.\n",
    "a='e'\n",
    "if a in 'aeiouAEIOU':\n",
    "    print('VOWEL')\n",
    "else:\n",
    "    print('CONSONENT')\n",
    "\n",
    "a='F'\n",
    "if a in 'aeiouAEIOU':\n",
    "    print('VOWEL')\n",
    "else:\n",
    "    print('CONSONENT')"
   ]
  },
  {
   "cell_type": "code",
   "execution_count": null,
   "metadata": {},
   "outputs": [
    {
     "name": "stdout",
     "output_type": "stream",
     "text": [
      "f\n",
      "C\n"
     ]
    }
   ],
   "source": [
    "#24WAP to check whether a given character is a vowel or consonant. if vowel, to \n",
    "# print the next character of a given character or else print previous characters\n",
    "a='e'\n",
    "if a in 'aeiouAEIOU':\n",
    "    n=chr(ord(a)+1)\n",
    "    print(n)\n",
    "else:\n",
    "    n=chr(ord(a)-1)\n",
    "    print(n)\n",
    "\n",
    "a='D'\n",
    "if a in 'aeiouAEIOU':\n",
    "    n=chr(ord(a)+1)\n",
    "    print(n)\n",
    "else:\n",
    "    n=chr(ord(a)-1)\n",
    "    print(n)"
   ]
  },
  {
   "cell_type": "code",
   "execution_count": null,
   "metadata": {},
   "outputs": [
    {
     "name": "stdout",
     "output_type": "stream",
     "text": [
      "edcba\n",
      "c\n"
     ]
    }
   ],
   "source": [
    "#25WAP to check whether a given string of first character is alphabet or not\n",
    "# if the alphabet prints, reverse the string or else print the middle character\n",
    "n='abcde'\n",
    "if 'A'<=n[0]<='B'or 'a'<=n[0]<='z':\n",
    "    n=n[::-1]\n",
    "    print(n)\n",
    "else:\n",
    "    n=n[len(n)//2]\n",
    "    print(n)\n",
    "\n",
    "n='!bcde'\n",
    "if 'A'<=n[0]<='B'or 'a'<=n[0]<='z':\n",
    "    n=n[::-1]\n",
    "    print(n)\n",
    "else:\n",
    "    n=n[len(n)//2]\n",
    "    print(n)"
   ]
  },
  {
   "cell_type": "code",
   "execution_count": null,
   "metadata": {},
   "outputs": [
    {
     "name": "stdout",
     "output_type": "stream",
     "text": [
      "f\n",
      "F\n"
     ]
    }
   ],
   "source": [
    "#26 WAP to check whether the given input character is uppercase or lowercase. If \n",
    "# the input character is upper case convert into lower case and vice versa.\n",
    "n='F'\n",
    "if 'A'<=n<='Z':\n",
    "    m=chr(ord(n)+32)\n",
    "    print(m)\n",
    "else:\n",
    "    m=chr(ord(n)-32)\n",
    "\n",
    "n='f'\n",
    "if 'A'<=n<='Z':\n",
    "    m=chr(ord(n)+32)\n",
    "    print(m)\n",
    "else:\n",
    "    m=chr(ord(n)-32)\n",
    "    print(m)\n"
   ]
  },
  {
   "cell_type": "code",
   "execution_count": null,
   "metadata": {},
   "outputs": [
    {
     "name": "stdout",
     "output_type": "stream",
     "text": [
      "hi\n",
      "owareyou\n"
     ]
    }
   ],
   "source": [
    "#27WAP to check whether a given string is less than 3 characters, to print the entire \n",
    "# string otherwise to print after third positions to the remaining string.\n",
    "s='hi'\n",
    "if len(s)<3:\n",
    "    print(s)\n",
    "else:\n",
    "    n=s[3:]\n",
    "    print(n)\n",
    "\n",
    "s='hihowareyou'\n",
    "if len(s)<3:\n",
    "    print(s)\n",
    "else:\n",
    "    n=s[3:]\n",
    "    print(n)"
   ]
  },
  {
   "cell_type": "code",
   "execution_count": null,
   "metadata": {},
   "outputs": [
    {
     "name": "stdout",
     "output_type": "stream",
     "text": [
      "g j\n",
      "salaarceasefire\n"
     ]
    }
   ],
   "source": [
    "#28WAP to check whether a given length of the string is even or not. if even, to \n",
    "# append the new string called \"bye\" or else print the first and last characters.\n",
    "n='guruj'\n",
    "if len(n)%2==0:\n",
    "    m=n+'bye'\n",
    "    print(m)\n",
    "\n",
    "else:\n",
    "    print(n[0],n[-1])\n",
    "\n",
    "st='salaar'\n",
    "if len(st)%2==0:\n",
    "    s='ceasefire'\n",
    "    st=st+s\n",
    "    print(st)\n",
    "else:\n",
    "    s=st[0]\n",
    "    v=st[-1]\n",
    "    print(s,v)\n",
    "\n"
   ]
  },
  {
   "cell_type": "code",
   "execution_count": null,
   "metadata": {},
   "outputs": [
    {
     "name": "stdout",
     "output_type": "stream",
     "text": [
      "uruj\n"
     ]
    }
   ],
   "source": [
    "#29WAP to check whether a given length of the string is odd or not. if odd, to append \n",
    "# the new string(\"Haii\") from the starting of the given string, or else to avoid the \n",
    "# starting character and ending character of the given\n",
    "# string and to display the remaining characters.\n",
    "n='gurujh'\n",
    "if len(n)%2!=0:\n",
    "    m='bye' + n\n",
    "    print(m)\n",
    "\n",
    "else:\n",
    "    h=n[1:len(n)-1]\n",
    "    print(h)\n",
    "\n"
   ]
  },
  {
   "cell_type": "code",
   "execution_count": null,
   "metadata": {},
   "outputs": [
    {
     "name": "stdout",
     "output_type": "stream",
     "text": [
      "madam is a palindrome string\n",
      "madan is not a palindrome string\n"
     ]
    }
   ],
   "source": [
    "#30)WAP to check whether the given string is palindrome or not if it is a palindrome \n",
    "# string palindrome along with the string if it is not a palindrome print not \n",
    "# palindrome\n",
    "st='madam'\n",
    "if st[:]==st[::-1]:\n",
    "    print(f'{st} is a palindrome string')\n",
    "else:\n",
    "    print(f'{st} is not a palindrome string')\n",
    "\n",
    "st='madan'\n",
    "if st[:]==st[::-1]:\n",
    "    print(f'{st} is a palindrome string')\n",
    "else:\n",
    "    print(f'{st} is not a palindrome string')\n"
   ]
  },
  {
   "cell_type": "code",
   "execution_count": null,
   "metadata": {},
   "outputs": [
    {
     "name": "stdout",
     "output_type": "stream",
     "text": [
      "10001 is a palindrome no.\n",
      "10002 is not a palindrome no.\n"
     ]
    }
   ],
   "source": [
    "#32 WAP to check whether a given number is palindrome or not. If palindrome, \n",
    "# display the given value as a palindrome or else not a palindrome.\n",
    "n=10001\n",
    "# if str(n)[::]==str(n)[::-1]:\n",
    "if str(n)[::]==str(n)[::-1]:\n",
    "    print(f'{n} is a palindrome no.')\n",
    "else:\n",
    "    print(f'{n} is not a palindrome no.')\n",
    "\n",
    "n=10002\n",
    "if str(n)[::]==str(n)[::-1]:\n",
    "    print(f'{n} is a palindrome no.')\n",
    "else:\n",
    "    print(f'{n} is not a palindrome no.')"
   ]
  },
  {
   "cell_type": "code",
   "execution_count": null,
   "metadata": {},
   "outputs": [
    {
     "name": "stdout",
     "output_type": "stream",
     "text": [
      "salaarceaase\n",
      "salaar 6\n",
      "cease 5\n"
     ]
    }
   ],
   "source": [
    "#33WAP to check length of both string collections are equal or not. if both are equal \n",
    "# print the concat the two strings and display, or else if any one of the collection \n",
    "# not equal print both the collections with lengths\n",
    "a='salaar'\n",
    "b='ceaase'\n",
    "if len(a) == len(b):\n",
    "    c=a+b\n",
    "    print(c)\n",
    "else:\n",
    "    print(a,len(a))\n",
    "    print(b,len(b))\n",
    "\n",
    "a='salaar'\n",
    "b='cease'\n",
    "if len(a) == len(b):\n",
    "    c=a+b\n",
    "    print(c)\n",
    "else:\n",
    "    print(a,len(a))\n",
    "    print(b,len(b))\n",
    "\n"
   ]
  },
  {
   "cell_type": "code",
   "execution_count": null,
   "metadata": {},
   "outputs": [
    {
     "name": "stdout",
     "output_type": "stream",
     "text": [
      "30\n",
      "10 140737298555976\n",
      "50 140737298557256\n"
     ]
    }
   ],
   "source": [
    "#34 WAP to check whether both given values point to the same memory location or \n",
    "# not. if it is true print the middle item of the second collection, or else if it is false \n",
    "# print the first item and last item of the first collection along with the memory \n",
    "# address.\n",
    "l1=[10,20,30,40,50]\n",
    "l2=l1\n",
    "if l1 is l2:\n",
    "    l22=l2[len(l2)//2]\n",
    "    print(l22)\n",
    "else:\n",
    "    l11=l1[0]\n",
    "    l12=l1[-1]\n",
    "    print(l11,id(l11))\n",
    "    print(l12,id(l12))\n",
    "\n",
    "l1=[10,20,30,40,50]\n",
    "l2=[10,20,30,40,50]\n",
    "if l1 is l2:\n",
    "    l22=l2[len(l2)//2]\n",
    "    print(l22)\n",
    "else:\n",
    "    l11=l1[0]\n",
    "    l12=l1[-1]\n",
    "    print(l11,id(l11))\n",
    "    print(l12,id(l12))\n"
   ]
  },
  {
   "cell_type": "code",
   "execution_count": null,
   "metadata": {},
   "outputs": [
    {
     "name": "stdout",
     "output_type": "stream",
     "text": [
      "65 101 70\n",
      "AsalaartheceasefireAsalaartheceasefireAsalaartheceasefire\n"
     ]
    }
   ],
   "source": [
    "#35WAP to check whether a given string collection is more than ten, and the first + \n",
    "# last character of the ascii values should be divisible by 5, if condition is satisfied \n",
    "# print first, middle, last characters ASCII values or else print the string three \n",
    "# times.\n",
    "st='AsalaartheceasefirF'\n",
    "if len(st)>10 and ord(st[0])%5==0 and ord(st[-1])%5==0:\n",
    "    s1=st[0]\n",
    "    s2=st[len(st)//2]\n",
    "    s3=st[-1]\n",
    "    print(ord(s1),ord(s2),ord(s3))\n",
    "else:\n",
    "    s=st*3\n",
    "    print(s)\n",
    "\n",
    "st='Asalaartheceasefire'\n",
    "if len(st)>10 and ord(st[0])%5==0 and ord(st[-1])%5==0:\n",
    "    s1=s[0]\n",
    "    s2=s[len(st)//2]\n",
    "    s3=s[-1]\n",
    "    print(ord(s1),ord(s2),ord(s3))\n",
    "else:\n",
    "    s=st*3\n",
    "    print(s)\n"
   ]
  },
  {
   "cell_type": "code",
   "execution_count": null,
   "metadata": {},
   "outputs": [
    {
     "name": "stdout",
     "output_type": "stream",
     "text": [
      "[10, 10.12, True, 'str', [10, 10.12], (10, 121)]\n",
      "[10, 10.12]\n"
     ]
    }
   ],
   "source": [
    "#36WAP to check whether the middle of the item present in the list is string data type \n",
    "# or not if it is string print that list or else if it is not string then print that middle \n",
    "# item\n",
    "l=[10,10.12,True,'str',[10,10.12],(10,121)]\n",
    "if type(l[len(l)//2])==str:\n",
    "    print(l)\n",
    "else:\n",
    "    print(l[len(l)//2])\n",
    "\n",
    "l=[10,10.12,True,[10,10.12],(10,121),{10,True}]\n",
    "if type(l[len(l)//2])==str:\n",
    "    print(l)\n",
    "else:\n",
    "    print(l[len(l)//2])"
   ]
  },
  {
   "cell_type": "code",
   "execution_count": null,
   "metadata": {},
   "outputs": [
    {
     "data": {
      "text/plain": [
       "'sururbvg'"
      ]
     },
     "execution_count": 55,
     "metadata": {},
     "output_type": "execute_result"
    }
   ],
   "source": [
    "#37WAP Given a string, return a new string where the first and last characters have \n",
    "# been exchanged\n",
    "n='gururbvs'\n",
    "m=n[-1]+n[1:len(n)-1]+n[0]\n",
    "m"
   ]
  },
  {
   "cell_type": "code",
   "execution_count": null,
   "metadata": {},
   "outputs": [
    {
     "name": "stdout",
     "output_type": "stream",
     "text": [
      "49\n",
      "140\n"
     ]
    }
   ],
   "source": [
    "#38Write a program to find out such numbers which are divisible by 7 but are not a \n",
    "# multiple of 5. Both the conditional is satisfied and print actual value. if one \n",
    "# condition is not satisfied actual number is multiply by 4 and print result\n",
    "n=49\n",
    "if n%7==0 and n%5!=0:\n",
    "    print(n)\n",
    "else:\n",
    "    n=n*4\n",
    "    print(n)\n",
    "\n",
    "n=35\n",
    "if n%7==0 and n%5!=0:\n",
    "    print(n)\n",
    "else:\n",
    "    n=n*4\n",
    "    print(n)"
   ]
  },
  {
   "cell_type": "code",
   "execution_count": null,
   "metadata": {},
   "outputs": [
    {
     "name": "stdout",
     "output_type": "stream",
     "text": [
      "140737298556296 id of a\n",
      "140737298556296 id of b\n",
      "1889593383232 id of a\n",
      "1889594106240 id of b\n"
     ]
    }
   ],
   "source": [
    "#39WAP to check whether two values are pointing to the same memory address or \n",
    "# not. If the same memory displays the address or else displays the two values \n",
    "# addresses.\n",
    "a=20\n",
    "b=20\n",
    "if a is b:\n",
    "    print(id(a),'id of a')\n",
    "    print(id(b),'id of b')\n",
    "else:\n",
    "    print(id(a),'id of a')\n",
    "    print(id(b),'id of b')\n",
    "a=[10,20]\n",
    "b=[10,20]\n",
    "if a is b:\n",
    "    print(id(a),'id of a')\n",
    "    print(id(b),'id of b')\n",
    "else:\n",
    "    print(id(a),'id of a')\n",
    "    print(id(b),'id of b')"
   ]
  },
  {
   "cell_type": "code",
   "execution_count": null,
   "metadata": {},
   "outputs": [
    {
     "name": "stdout",
     "output_type": "stream",
     "text": [
      "@@@\n",
      "ZZZZZ\n"
     ]
    }
   ],
   "source": [
    "#40 WAP to check whether a given input character is a special symbol or not if it is a \n",
    "# special symbol then print that character three times and tell print that character \n",
    "# 5 times.\n",
    "n='@'\n",
    "if not('A'<=n<='Z'or 'a'<=n<='z' or '0'<=n<='9'):\n",
    "    print(n*3)\n",
    "else:\n",
    "    print(n*5)\n",
    "\n",
    "n='Z'\n",
    "if not('A'<=n<='Z'or 'a'<=n<='z' or '0'<=n<='9'):\n",
    "    print(n*3)\n",
    "else:\n",
    "    print(n*5)"
   ]
  },
  {
   "cell_type": "code",
   "execution_count": null,
   "metadata": {},
   "outputs": [
    {
     "name": "stdout",
     "output_type": "stream",
     "text": [
      "s s is first letter of both the variables\n"
     ]
    }
   ],
   "source": [
    "#41WAP to check length of both string collections equal or not if it is equal print the \n",
    "# connection of any one of the collections if it is not equal print both the collection.\n",
    "a='salaar'\n",
    "b='salaar'\n",
    "if a ==b:\n",
    "    print(a[0],b[0],'is first letter of both the variables')\n",
    "else:\n",
    "    print(a,b)\n"
   ]
  },
  {
   "cell_type": "code",
   "execution_count": null,
   "metadata": {},
   "outputs": [
    {
     "name": "stdout",
     "output_type": "stream",
     "text": [
      "r\n",
      "30\n"
     ]
    }
   ],
   "source": [
    "#42WAP To check whether both input variables point to the same memory location \n",
    "# or not if it is true print the last item of the second collection, if it is false print the \n",
    "# first item of the first collection along with the memory address.\n",
    "a='salaar'\n",
    "b='salaarthe'\n",
    "if a is b:\n",
    "    print(b[-1])\n",
    "else:\n",
    "    print(a[-1])\n",
    "\n",
    "a=[10,20,30]\n",
    "b=[10,30,20]\n",
    "if a is b:\n",
    "    print(b[-1])\n",
    "else:\n",
    "    print(a[-1])"
   ]
  },
  {
   "cell_type": "code",
   "execution_count": null,
   "metadata": {},
   "outputs": [
    {
     "name": "stdout",
     "output_type": "stream",
     "text": [
      "aaaraaaaraaaara\n",
      "d\n"
     ]
    }
   ],
   "source": [
    "#43 WAP to print the string collection five times when the length of the string \n",
    "# collection should be more than 3 and the middle character of the string should \n",
    "# be vowel and the first character ASCII value should be even, to print the previous \n",
    "# character of middle character, or else if ASCII value is odd then print the string \n",
    "# three times as print that string.\n",
    "s='aaara'\n",
    "if len(s)>3 and ord(s[0])%2==0 and s[len(s)//2]=='A,E,I,O,U,a,e,i,o,u':\n",
    "    m=s[len(s)//2]\n",
    "    print(m)\n",
    "elif ord(s[0])%2!=0:\n",
    "    print(s*3)\n",
    "\n",
    "s='Baera'\n",
    "if len(s)>3 and ord(s[0])%2==0 and  s[len(s)//2] in 'A,E,I,O,U,a,e,i,o,u':\n",
    "    m=s[len(s)//2]\n",
    "    print(chr(ord(m)-1))\n",
    "elif ord(s[0])%2!=0:\n",
    "    print(s*3)"
   ]
  },
  {
   "cell_type": "code",
   "execution_count": null,
   "metadata": {},
   "outputs": [
    {
     "name": "stdout",
     "output_type": "stream",
     "text": [
      "leap year 2024\n"
     ]
    }
   ],
   "source": [
    "#44 WAP to check whether a given year is a leap year or not. if leap year, print leap \n",
    "#year or else not a leap year\n",
    "n=2024\n",
    "if n%4==0 and n%100!=0 or n%400==0:\n",
    "    print('leap year',n)\n",
    "else:\n",
    "    print('not leap year',n)"
   ]
  },
  {
   "cell_type": "code",
   "execution_count": null,
   "metadata": {},
   "outputs": [
    {
     "name": "stdout",
     "output_type": "stream",
     "text": [
      "[3.3333333333333335, 20, 30, 40, 50, 60, 70, -81]\n"
     ]
    }
   ],
   "source": [
    "#45WAP to check whether a given value is a list and first and last values should be \n",
    "#integer if condition is satisfied first value is True division by 3 and perform the \n",
    "#bitwise not for last value and those result values are stored in same positions in \n",
    "#given list or else, to perform length of the collection power by 2 and display \n",
    "#value\n",
    "n=[10,20,30,40,50,60,70,80]\n",
    "if type(n[0])==int and type(n[-1])==int:\n",
    "    m=n[0]/3\n",
    "    h=~(n[-1])\n",
    "    n[0]=m\n",
    "    n[-1]=h\n",
    "    print(n)\n",
    "else:\n",
    "    print(n**2)"
   ]
  },
  {
   "cell_type": "code",
   "execution_count": null,
   "metadata": {},
   "outputs": [
    {
     "name": "stdout",
     "output_type": "stream",
     "text": [
      "gurugurubhai\n"
     ]
    }
   ],
   "source": [
    "#46WAP to check whether a given value is a string or not and length of the value \n",
    "#should be more than 7, if condition is satisfied to append the new string in the \n",
    "#middle of the given string or else to perform the replications with 3 and display \n",
    "#the result.\n",
    "n='gurubhai'\n",
    "if type(n)==str and len(n)>7:\n",
    "    m=n[:len(n)//2]+'guru'+n[len(n)//2:]\n",
    "    print(m)\n",
    "else:\n",
    "    print(n*3)"
   ]
  },
  {
   "cell_type": "code",
   "execution_count": null,
   "metadata": {},
   "outputs": [],
   "source": [
    "#47)WAP to check if the given string of first and second character should be sequence \n",
    "#or not. if the sequence prints the first, second and last two characters, or else the \n",
    "#first half string is reversed and the remaining half string should be normal and \n",
    "#display it. \n"
   ]
  },
  {
   "cell_type": "code",
   "execution_count": null,
   "metadata": {},
   "outputs": [
    {
     "name": "stdout",
     "output_type": "stream",
     "text": [
      "140728003126024\n"
     ]
    }
   ],
   "source": [
    "#\n",
    "a=0\n",
    "b=0\n",
    "c=0\n",
    "if a is c:\n",
    "    print(id(c))"
   ]
  },
  {
   "cell_type": "code",
   "execution_count": null,
   "metadata": {},
   "outputs": [
    {
     "name": "stdout",
     "output_type": "stream",
     "text": [
      "The number is not a Perfect number\n"
     ]
    }
   ],
   "source": [
    "num = 28\n",
    "sum = 0\n",
    "\n",
    "i = 1\n",
    "while i < num:\n",
    "    if num % i == 0:\n",
    "        sum += i\n",
    "\n",
    "    i += 1\n",
    "\n",
    "if sum == num:\n",
    "    print(\"The number is a Perfect number\")\n",
    "else:\n",
    "    print(\"The number is not a Perfect number\")"
   ]
  },
  {
   "cell_type": "code",
   "execution_count": null,
   "metadata": {},
   "outputs": [
    {
     "ename": "SyntaxError",
     "evalue": "invalid syntax (2701478358.py, line 1)",
     "output_type": "error",
     "traceback": [
      "\u001b[1;36m  Cell \u001b[1;32mIn[2], line 1\u001b[1;36m\u001b[0m\n\u001b[1;33m    public class Main\u001b[0m\n\u001b[1;37m           ^\u001b[0m\n\u001b[1;31mSyntaxError\u001b[0m\u001b[1;31m:\u001b[0m invalid syntax\n"
     ]
    }
   ],
   "source": [
    "\n",
    "public class Main\n",
    "{\n",
    "public static void main(String args[]) \n",
    "{\n",
    "    int number = 28;\n",
    "    int sum = 0;\n",
    "    int i = 1;\n",
    "    while(i<=number/2)\n",
    "    {\n",
    "        if(number%i == 0)\n",
    "        {\n",
    "            sum+=i;\n",
    "        }\n",
    "        i++;\n",
    "    }\n",
    "    if(sum == number)\n",
    "        System.out.println(\"It is Perfect Number\");\n",
    "    else System.out.println(\"It is not Perfect Number\");\n",
    "}\n",
    "}"
   ]
  },
  {
   "cell_type": "code",
   "execution_count": null,
   "metadata": {},
   "outputs": [
    {
     "name": "stdout",
     "output_type": "stream",
     "text": [
      "145\n",
      "strong number\n"
     ]
    }
   ],
   "source": [
    "#\n",
    "n=145 \n",
    "temp=n\n",
    "y=0\n",
    "while n:\n",
    "    m=n%10\n",
    "    j=1\n",
    "    g=1\n",
    "    while g<=m:\n",
    "        j*=g\n",
    "        g+=1\n",
    "    y+=j\n",
    "    n=n//10\n",
    "print(y)\n",
    "\n",
    "if y==temp:\n",
    "    print('strong number')\n",
    "else:\n",
    "    print('not a strong number')\n",
    "\n"
   ]
  },
  {
   "cell_type": "code",
   "execution_count": 28,
   "metadata": {},
   "outputs": [
    {
     "name": "stdout",
     "output_type": "stream",
     "text": [
      "1 => 3628800\n",
      "2 => 3628800\n",
      "3 => 3628800\n",
      "4 => 3628800\n",
      "5 => 3628800\n",
      "6 => 3628800\n",
      "7 => 3628800\n",
      "8 => 3628800\n",
      "9 => 3628800\n",
      "10 => 3628800\n"
     ]
    }
   ],
   "source": [
    "\n",
    "n=10\n",
    "m=1\n",
    "while m<=n:\n",
    "    x=1\n",
    "    fact=1\n",
    "    y=n\n",
    "    while x<=y:\n",
    "        fact*=x\n",
    "        x+=1\n",
    "    print(m,'=>',fact)\n",
    "    m+=1\n",
    "   "
   ]
  },
  {
   "cell_type": "code",
   "execution_count": 6,
   "metadata": {},
   "outputs": [
    {
     "name": "stdout",
     "output_type": "stream",
     "text": [
      "spy\n"
     ]
    }
   ],
   "source": [
    "#wap to check the given number is spy or not\n",
    "n=1124\n",
    "sum=0\n",
    "prod=1\n",
    "while n:\n",
    "    ld =n%10\n",
    "    sum=ld+sum\n",
    "    prod*=ld\n",
    "    n//=10\n",
    "if sum==prod:\n",
    "    print('spy')\n",
    "else:\n",
    "    print(' not spy')"
   ]
  },
  {
   "cell_type": "code",
   "execution_count": 9,
   "metadata": {},
   "outputs": [
    {
     "name": "stdout",
     "output_type": "stream",
     "text": [
      "4\n"
     ]
    }
   ],
   "source": [
    "#wap to count the number of digits given number \n",
    "n=1235\n",
    "count=0\n",
    "while n:\n",
    "    count+=1\n",
    "    n//=10\n",
    "print(count)"
   ]
  },
  {
   "cell_type": "code",
   "execution_count": 31,
   "metadata": {},
   "outputs": [
    {
     "name": "stdout",
     "output_type": "stream",
     "text": [
      "3\n",
      "armstrong\n"
     ]
    }
   ],
   "source": [
    "#wap to check the given number is armstrong or not\n",
    "n=153\n",
    "temp=n\n",
    "count=0\n",
    "while temp:\n",
    "    count+=1\n",
    "    temp//=10\n",
    "print(count)\n",
    "sum=0\n",
    "res=n\n",
    "while res:\n",
    "    ld=res%10\n",
    "    sum=ld**count+sum\n",
    "    res//=10\n",
    "if n==sum:\n",
    "    print('armstrong')\n",
    "else:\n",
    "    print('not armstrong')\n",
    "\n",
    "\n",
    "\n"
   ]
  },
  {
   "cell_type": "code",
   "execution_count": 8,
   "metadata": {},
   "outputs": [
    {
     "ename": "KeyboardInterrupt",
     "evalue": "",
     "output_type": "error",
     "traceback": [
      "\u001b[1;31m---------------------------------------------------------------------------\u001b[0m",
      "\u001b[1;31mKeyboardInterrupt\u001b[0m                         Traceback (most recent call last)",
      "Cell \u001b[1;32mIn[8], line 9\u001b[0m\n\u001b[0;32m      7\u001b[0m i\u001b[39m=\u001b[39m\u001b[39m1\u001b[39m\n\u001b[0;32m      8\u001b[0m \u001b[39mwhile\u001b[39;00m x\u001b[39m<\u001b[39m\u001b[39m=\u001b[39mj:\n\u001b[1;32m----> 9\u001b[0m     i\u001b[39m*\u001b[39;49m\u001b[39m=\u001b[39;49mx\n\u001b[0;32m     10\u001b[0m     x\u001b[39m+\u001b[39m\u001b[39m=\u001b[39m\u001b[39m1\u001b[39m\n\u001b[0;32m     11\u001b[0m j\u001b[39m/\u001b[39m\u001b[39m/\u001b[39m\u001b[39m=\u001b[39m\u001b[39m10\u001b[39m\n",
      "\u001b[1;31mKeyboardInterrupt\u001b[0m: "
     ]
    }
   ],
   "source": [
    "#\n",
    "n=2000\n",
    "m=1\n",
    "while m<=n:\n",
    "    j=n\n",
    "    x=1\n",
    "    i=1\n",
    "    while x<=j:\n",
    "        i*=x\n",
    "        x+=1\n",
    "    j//=10\n",
    "    m+=1\n",
    "print(m)\n",
    "\n",
    "\n",
    "\n",
    "\n"
   ]
  },
  {
   "cell_type": "code",
   "execution_count": 9,
   "metadata": {},
   "outputs": [
    {
     "name": "stdout",
     "output_type": "stream",
     "text": [
      "1\n",
      "2\n",
      "3\n",
      "4\n",
      "5\n",
      "6\n",
      "7\n",
      "8\n",
      "9\n",
      "153\n",
      "370\n",
      "371\n",
      "407\n",
      "1634\n",
      "8208\n",
      "9474\n",
      "54748\n",
      "92727\n",
      "93084\n"
     ]
    }
   ],
   "source": [
    "start=1\n",
    "end=100000\n",
    "while start<=end:\n",
    "    n=start\n",
    "    s=n\n",
    "    temp=n\n",
    "    sum1=0\n",
    "    count=0\n",
    "    while s:\n",
    "        count+=1\n",
    "        s//=10\n",
    "    while n:\n",
    "        ld=n%10\n",
    "        sum1+=ld**count\n",
    "        n//=10\n",
    "    if temp==sum1:\n",
    "        print(temp)\n",
    "    start+=1"
   ]
  },
  {
   "cell_type": "code",
   "execution_count": 14,
   "metadata": {},
   "outputs": [
    {
     "name": "stdout",
     "output_type": "stream",
     "text": [
      "1\n",
      "2\n",
      "3\n",
      "4\n",
      "5\n",
      "6\n",
      "7\n",
      "8\n",
      "9\n",
      "22\n",
      "123\n",
      "132\n",
      "213\n",
      "231\n",
      "312\n",
      "321\n",
      "1124\n",
      "1142\n",
      "1214\n",
      "1241\n",
      "1412\n",
      "1421\n",
      "2114\n",
      "2141\n",
      "2411\n",
      "4112\n",
      "4121\n",
      "4211\n"
     ]
    }
   ],
   "source": [
    "start=1\n",
    "end=10000\n",
    "while start<=end:\n",
    "    n=start\n",
    "    temp=n\n",
    "    sum=0\n",
    "    prod=1\n",
    "    while n:\n",
    "       ld =n%10\n",
    "       sum=ld+sum\n",
    "       prod*=ld\n",
    "       n//=10\n",
    "    if sum==prod:\n",
    "       print(temp)\n",
    "    start+=1"
   ]
  },
  {
   "cell_type": "code",
   "execution_count": 15,
   "metadata": {},
   "outputs": [
    {
     "name": "stdout",
     "output_type": "stream",
     "text": [
      "1\n",
      "2\n",
      "3\n",
      "4\n",
      "5\n",
      "6\n",
      "7\n",
      "8\n",
      "9\n",
      "11\n",
      "22\n",
      "33\n",
      "44\n",
      "55\n",
      "66\n",
      "77\n",
      "88\n",
      "99\n",
      "101\n",
      "111\n",
      "121\n",
      "131\n",
      "141\n",
      "151\n",
      "161\n",
      "171\n",
      "181\n",
      "191\n",
      "202\n",
      "212\n",
      "222\n",
      "232\n",
      "242\n",
      "252\n",
      "262\n",
      "272\n",
      "282\n",
      "292\n",
      "303\n",
      "313\n",
      "323\n",
      "333\n",
      "343\n",
      "353\n",
      "363\n",
      "373\n",
      "383\n",
      "393\n",
      "404\n",
      "414\n",
      "424\n",
      "434\n",
      "444\n",
      "454\n",
      "464\n",
      "474\n",
      "484\n",
      "494\n",
      "505\n",
      "515\n",
      "525\n",
      "535\n",
      "545\n",
      "555\n",
      "565\n",
      "575\n",
      "585\n",
      "595\n",
      "606\n",
      "616\n",
      "626\n",
      "636\n",
      "646\n",
      "656\n",
      "666\n",
      "676\n",
      "686\n",
      "696\n",
      "707\n",
      "717\n",
      "727\n",
      "737\n",
      "747\n",
      "757\n",
      "767\n",
      "777\n",
      "787\n",
      "797\n",
      "808\n",
      "818\n",
      "828\n",
      "838\n",
      "848\n",
      "858\n",
      "868\n",
      "878\n",
      "888\n",
      "898\n",
      "909\n",
      "919\n",
      "929\n",
      "939\n",
      "949\n",
      "959\n",
      "969\n",
      "979\n",
      "989\n",
      "999\n",
      "1001\n",
      "1111\n",
      "1221\n",
      "1331\n",
      "1441\n",
      "1551\n",
      "1661\n",
      "1771\n",
      "1881\n",
      "1991\n",
      "2002\n",
      "2112\n",
      "2222\n",
      "2332\n",
      "2442\n",
      "2552\n",
      "2662\n",
      "2772\n",
      "2882\n",
      "2992\n",
      "3003\n",
      "3113\n",
      "3223\n",
      "3333\n",
      "3443\n",
      "3553\n",
      "3663\n",
      "3773\n",
      "3883\n",
      "3993\n",
      "4004\n",
      "4114\n",
      "4224\n",
      "4334\n",
      "4444\n",
      "4554\n",
      "4664\n",
      "4774\n",
      "4884\n",
      "4994\n",
      "5005\n",
      "5115\n",
      "5225\n",
      "5335\n",
      "5445\n",
      "5555\n",
      "5665\n",
      "5775\n",
      "5885\n",
      "5995\n",
      "6006\n",
      "6116\n",
      "6226\n",
      "6336\n",
      "6446\n",
      "6556\n",
      "6666\n",
      "6776\n",
      "6886\n",
      "6996\n",
      "7007\n",
      "7117\n",
      "7227\n",
      "7337\n",
      "7447\n",
      "7557\n",
      "7667\n",
      "7777\n",
      "7887\n",
      "7997\n",
      "8008\n",
      "8118\n",
      "8228\n",
      "8338\n",
      "8448\n",
      "8558\n",
      "8668\n",
      "8778\n",
      "8888\n",
      "8998\n",
      "9009\n",
      "9119\n",
      "9229\n",
      "9339\n",
      "9449\n",
      "9559\n",
      "9669\n",
      "9779\n",
      "9889\n",
      "9999\n"
     ]
    }
   ],
   "source": [
    "start=1\n",
    "end=10000\n",
    "while start<=end:\n",
    "    a=start\n",
    "    s=0\n",
    "    b=a\n",
    "    while a:\n",
    "        digit=a%10\n",
    "        s=s*10+digit\n",
    "        a//=10\n",
    "    if b==s:\n",
    "        print(s)\n",
    "    start+=1\n",
    "\n"
   ]
  },
  {
   "cell_type": "code",
   "execution_count": 26,
   "metadata": {},
   "outputs": [
    {
     "name": "stdout",
     "output_type": "stream",
     "text": [
      "7\n"
     ]
    }
   ],
   "source": [
    "#wap to extract the number under 9\n",
    "num=197921388145912\n",
    "while num>9:\n",
    "    sum1=0\n",
    "    while num:\n",
    "        ld=num%10\n",
    "        sum1+=ld\n",
    "        num=num//10\n",
    "    num=sum1\n",
    "print(sum1)\n",
    "\n",
    "\n",
    "\n",
    "    \n"
   ]
  },
  {
   "cell_type": "code",
   "execution_count": 42,
   "metadata": {},
   "outputs": [
    {
     "name": "stdout",
     "output_type": "stream",
     "text": [
      "9\n",
      "6\n"
     ]
    }
   ],
   "source": [
    "#wap to extact middle digit of given number\n",
    "n=789465845\n",
    "temp=n\n",
    "count=0\n",
    "while n:\n",
    "    count+=1\n",
    "    n//=10\n",
    "print(count)\n",
    "v=count//2\n",
    "while v:\n",
    "    temp=temp//10\n",
    "    v-=1\n",
    "print(temp%10)\n",
    "\n",
    "\n",
    "\n",
    "\n"
   ]
  },
  {
   "cell_type": "code",
   "execution_count": null,
   "metadata": {},
   "outputs": [],
   "source": []
  }
 ],
 "metadata": {
  "kernelspec": {
   "display_name": "Python 3",
   "language": "python",
   "name": "python3"
  },
  "language_info": {
   "codemirror_mode": {
    "name": "ipython",
    "version": 3
   },
   "file_extension": ".py",
   "mimetype": "text/x-python",
   "name": "python",
   "nbconvert_exporter": "python",
   "pygments_lexer": "ipython3",
   "version": "3.11.4"
  },
  "orig_nbformat": 4
 },
 "nbformat": 4,
 "nbformat_minor": 2
}
